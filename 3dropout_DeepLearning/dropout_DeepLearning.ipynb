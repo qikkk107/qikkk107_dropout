{
 "cells": [
  {
   "cell_type": "code",
   "execution_count": 1,
   "metadata": {
    "id": "gRu9kpkYyztz"
   },
   "outputs": [],
   "source": [
    "import pandas as pd###数据处理和分析\n",
    "import sklearn.metrics as metrique###提供了多种评估机器学习模型性能的指标\n",
    "from pandas import Series###pandas库中的一个重要数据结构，表示一维的标记数组\n",
    "from sklearn.preprocessing import StandardScaler, MinMaxScaler###pandas库中的一个重要数据结构，表示一维的标记数组\n",
    "from matplotlib import pyplot\n",
    "from sklearn.model_selection import train_test_split\n",
    "import numpy as np\n",
    "from keras.callbacks import EarlyStopping###keras.callbacks 模块中的工具，用于在训练神经网络时执行回调操作，如提前停止训练或保存模型\n",
    "#from keras.utils import np_utils\n",
    "from tensorflow.python.keras.utils.np_utils import to_categorical\n",
    "\n",
    "from keras.callbacks import ModelCheckpoint\n",
    "from sklearn.metrics import accuracy_score\n",
    "from sklearn.metrics import classification_report, confusion_matrix\n",
    "from keras.models import Sequential\n",
    "#from keras.utils import np_utils\n",
    "from keras.layers import LSTM, Dense, Embedding, Dropout,Input, Attention, Layer, Concatenate, Permute, Dot, Multiply, Flatten###keras.layers 中的层，用于构建神经网络的各个部分\n",
    "from keras.layers import RepeatVector, Dense, Activation, Lambda\n",
    "from keras.models import Sequential\n",
    "from keras import backend as K, regularizers, Model, metrics\n",
    "from keras.backend import cast"
   ]
  },
  {
   "cell_type": "code",
   "execution_count": 2,
   "metadata": {
    "id": "Mlth1eViyz_p"
   },
   "outputs": [
    {
     "data": {
      "text/html": [
       "<div>\n",
       "<style scoped>\n",
       "    .dataframe tbody tr th:only-of-type {\n",
       "        vertical-align: middle;\n",
       "    }\n",
       "\n",
       "    .dataframe tbody tr th {\n",
       "        vertical-align: top;\n",
       "    }\n",
       "\n",
       "    .dataframe thead th {\n",
       "        text-align: right;\n",
       "    }\n",
       "</style>\n",
       "<table border=\"1\" class=\"dataframe\">\n",
       "  <thead>\n",
       "    <tr style=\"text-align: right;\">\n",
       "      <th></th>\n",
       "      <th>enrollment_id</th>\n",
       "      <th>all_opnum_1</th>\n",
       "      <th>all_opnum_2</th>\n",
       "      <th>all_opnum_3</th>\n",
       "      <th>all_opnum_4</th>\n",
       "      <th>all_opnum_5</th>\n",
       "      <th>all_opnum_6</th>\n",
       "      <th>all_opnum_7</th>\n",
       "      <th>all_opnum_8</th>\n",
       "      <th>all_opnum_9</th>\n",
       "      <th>...</th>\n",
       "      <th>thirty_day_max</th>\n",
       "      <th>thirty_day_sum</th>\n",
       "      <th>thirty_day_mean</th>\n",
       "      <th>thirty_day_std</th>\n",
       "      <th>username</th>\n",
       "      <th>course_id</th>\n",
       "      <th>course_num</th>\n",
       "      <th>nondropout_num</th>\n",
       "      <th>nondrop_precent</th>\n",
       "      <th>dropout</th>\n",
       "    </tr>\n",
       "  </thead>\n",
       "  <tbody>\n",
       "    <tr>\n",
       "      <th>0</th>\n",
       "      <td>1</td>\n",
       "      <td>0</td>\n",
       "      <td>0</td>\n",
       "      <td>13</td>\n",
       "      <td>0</td>\n",
       "      <td>0</td>\n",
       "      <td>0</td>\n",
       "      <td>0</td>\n",
       "      <td>24</td>\n",
       "      <td>0</td>\n",
       "      <td>...</td>\n",
       "      <td>67</td>\n",
       "      <td>314</td>\n",
       "      <td>10</td>\n",
       "      <td>18.70</td>\n",
       "      <td>0</td>\n",
       "      <td>28</td>\n",
       "      <td>6</td>\n",
       "      <td>4.0</td>\n",
       "      <td>0.666667</td>\n",
       "      <td>0</td>\n",
       "    </tr>\n",
       "    <tr>\n",
       "      <th>1</th>\n",
       "      <td>3</td>\n",
       "      <td>28</td>\n",
       "      <td>0</td>\n",
       "      <td>0</td>\n",
       "      <td>0</td>\n",
       "      <td>3</td>\n",
       "      <td>0</td>\n",
       "      <td>0</td>\n",
       "      <td>30</td>\n",
       "      <td>0</td>\n",
       "      <td>...</td>\n",
       "      <td>64</td>\n",
       "      <td>288</td>\n",
       "      <td>9</td>\n",
       "      <td>18.36</td>\n",
       "      <td>1</td>\n",
       "      <td>9</td>\n",
       "      <td>3</td>\n",
       "      <td>3.0</td>\n",
       "      <td>1.000000</td>\n",
       "      <td>0</td>\n",
       "    </tr>\n",
       "    <tr>\n",
       "      <th>2</th>\n",
       "      <td>4</td>\n",
       "      <td>0</td>\n",
       "      <td>0</td>\n",
       "      <td>0</td>\n",
       "      <td>20</td>\n",
       "      <td>11</td>\n",
       "      <td>0</td>\n",
       "      <td>0</td>\n",
       "      <td>0</td>\n",
       "      <td>0</td>\n",
       "      <td>...</td>\n",
       "      <td>20</td>\n",
       "      <td>99</td>\n",
       "      <td>3</td>\n",
       "      <td>5.89</td>\n",
       "      <td>2</td>\n",
       "      <td>28</td>\n",
       "      <td>2</td>\n",
       "      <td>1.0</td>\n",
       "      <td>0.500000</td>\n",
       "      <td>0</td>\n",
       "    </tr>\n",
       "    <tr>\n",
       "      <th>3</th>\n",
       "      <td>5</td>\n",
       "      <td>2</td>\n",
       "      <td>0</td>\n",
       "      <td>145</td>\n",
       "      <td>0</td>\n",
       "      <td>0</td>\n",
       "      <td>0</td>\n",
       "      <td>0</td>\n",
       "      <td>0</td>\n",
       "      <td>0</td>\n",
       "      <td>...</td>\n",
       "      <td>145</td>\n",
       "      <td>633</td>\n",
       "      <td>21</td>\n",
       "      <td>40.73</td>\n",
       "      <td>3</td>\n",
       "      <td>9</td>\n",
       "      <td>1</td>\n",
       "      <td>1.0</td>\n",
       "      <td>1.000000</td>\n",
       "      <td>0</td>\n",
       "    </tr>\n",
       "    <tr>\n",
       "      <th>4</th>\n",
       "      <td>6</td>\n",
       "      <td>0</td>\n",
       "      <td>0</td>\n",
       "      <td>0</td>\n",
       "      <td>0</td>\n",
       "      <td>0</td>\n",
       "      <td>0</td>\n",
       "      <td>0</td>\n",
       "      <td>0</td>\n",
       "      <td>0</td>\n",
       "      <td>...</td>\n",
       "      <td>17</td>\n",
       "      <td>23</td>\n",
       "      <td>0</td>\n",
       "      <td>3.20</td>\n",
       "      <td>4</td>\n",
       "      <td>22</td>\n",
       "      <td>1</td>\n",
       "      <td>1.0</td>\n",
       "      <td>1.000000</td>\n",
       "      <td>0</td>\n",
       "    </tr>\n",
       "    <tr>\n",
       "      <th>5</th>\n",
       "      <td>7</td>\n",
       "      <td>20</td>\n",
       "      <td>0</td>\n",
       "      <td>125</td>\n",
       "      <td>0</td>\n",
       "      <td>0</td>\n",
       "      <td>0</td>\n",
       "      <td>0</td>\n",
       "      <td>0</td>\n",
       "      <td>0</td>\n",
       "      <td>...</td>\n",
       "      <td>125</td>\n",
       "      <td>479</td>\n",
       "      <td>15</td>\n",
       "      <td>31.32</td>\n",
       "      <td>5</td>\n",
       "      <td>9</td>\n",
       "      <td>4</td>\n",
       "      <td>0.0</td>\n",
       "      <td>0.000000</td>\n",
       "      <td>1</td>\n",
       "    </tr>\n",
       "    <tr>\n",
       "      <th>6</th>\n",
       "      <td>9</td>\n",
       "      <td>0</td>\n",
       "      <td>0</td>\n",
       "      <td>0</td>\n",
       "      <td>0</td>\n",
       "      <td>0</td>\n",
       "      <td>0</td>\n",
       "      <td>0</td>\n",
       "      <td>0</td>\n",
       "      <td>0</td>\n",
       "      <td>...</td>\n",
       "      <td>28</td>\n",
       "      <td>97</td>\n",
       "      <td>3</td>\n",
       "      <td>7.42</td>\n",
       "      <td>6</td>\n",
       "      <td>28</td>\n",
       "      <td>2</td>\n",
       "      <td>1.0</td>\n",
       "      <td>0.500000</td>\n",
       "      <td>1</td>\n",
       "    </tr>\n",
       "    <tr>\n",
       "      <th>7</th>\n",
       "      <td>12</td>\n",
       "      <td>0</td>\n",
       "      <td>0</td>\n",
       "      <td>0</td>\n",
       "      <td>0</td>\n",
       "      <td>0</td>\n",
       "      <td>0</td>\n",
       "      <td>0</td>\n",
       "      <td>0</td>\n",
       "      <td>0</td>\n",
       "      <td>...</td>\n",
       "      <td>22</td>\n",
       "      <td>127</td>\n",
       "      <td>4</td>\n",
       "      <td>6.79</td>\n",
       "      <td>7</td>\n",
       "      <td>28</td>\n",
       "      <td>1</td>\n",
       "      <td>1.0</td>\n",
       "      <td>1.000000</td>\n",
       "      <td>0</td>\n",
       "    </tr>\n",
       "    <tr>\n",
       "      <th>8</th>\n",
       "      <td>13</td>\n",
       "      <td>0</td>\n",
       "      <td>0</td>\n",
       "      <td>0</td>\n",
       "      <td>9</td>\n",
       "      <td>0</td>\n",
       "      <td>34</td>\n",
       "      <td>0</td>\n",
       "      <td>0</td>\n",
       "      <td>0</td>\n",
       "      <td>...</td>\n",
       "      <td>173</td>\n",
       "      <td>463</td>\n",
       "      <td>15</td>\n",
       "      <td>35.76</td>\n",
       "      <td>8</td>\n",
       "      <td>4</td>\n",
       "      <td>3</td>\n",
       "      <td>3.0</td>\n",
       "      <td>1.000000</td>\n",
       "      <td>0</td>\n",
       "    </tr>\n",
       "    <tr>\n",
       "      <th>9</th>\n",
       "      <td>14</td>\n",
       "      <td>0</td>\n",
       "      <td>0</td>\n",
       "      <td>0</td>\n",
       "      <td>0</td>\n",
       "      <td>0</td>\n",
       "      <td>0</td>\n",
       "      <td>0</td>\n",
       "      <td>0</td>\n",
       "      <td>0</td>\n",
       "      <td>...</td>\n",
       "      <td>23</td>\n",
       "      <td>102</td>\n",
       "      <td>3</td>\n",
       "      <td>6.39</td>\n",
       "      <td>9</td>\n",
       "      <td>28</td>\n",
       "      <td>1</td>\n",
       "      <td>0.0</td>\n",
       "      <td>0.000000</td>\n",
       "      <td>1</td>\n",
       "    </tr>\n",
       "  </tbody>\n",
       "</table>\n",
       "<p>10 rows × 117 columns</p>\n",
       "</div>"
      ],
      "text/plain": [
       "   enrollment_id  all_opnum_1  all_opnum_2  all_opnum_3  all_opnum_4  \\\n",
       "0              1            0            0           13            0   \n",
       "1              3           28            0            0            0   \n",
       "2              4            0            0            0           20   \n",
       "3              5            2            0          145            0   \n",
       "4              6            0            0            0            0   \n",
       "5              7           20            0          125            0   \n",
       "6              9            0            0            0            0   \n",
       "7             12            0            0            0            0   \n",
       "8             13            0            0            0            9   \n",
       "9             14            0            0            0            0   \n",
       "\n",
       "   all_opnum_5  all_opnum_6  all_opnum_7  all_opnum_8  all_opnum_9  ...  \\\n",
       "0            0            0            0           24            0  ...   \n",
       "1            3            0            0           30            0  ...   \n",
       "2           11            0            0            0            0  ...   \n",
       "3            0            0            0            0            0  ...   \n",
       "4            0            0            0            0            0  ...   \n",
       "5            0            0            0            0            0  ...   \n",
       "6            0            0            0            0            0  ...   \n",
       "7            0            0            0            0            0  ...   \n",
       "8            0           34            0            0            0  ...   \n",
       "9            0            0            0            0            0  ...   \n",
       "\n",
       "   thirty_day_max  thirty_day_sum  thirty_day_mean  thirty_day_std  username  \\\n",
       "0              67             314               10           18.70         0   \n",
       "1              64             288                9           18.36         1   \n",
       "2              20              99                3            5.89         2   \n",
       "3             145             633               21           40.73         3   \n",
       "4              17              23                0            3.20         4   \n",
       "5             125             479               15           31.32         5   \n",
       "6              28              97                3            7.42         6   \n",
       "7              22             127                4            6.79         7   \n",
       "8             173             463               15           35.76         8   \n",
       "9              23             102                3            6.39         9   \n",
       "\n",
       "   course_id  course_num  nondropout_num  nondrop_precent  dropout  \n",
       "0         28           6             4.0         0.666667        0  \n",
       "1          9           3             3.0         1.000000        0  \n",
       "2         28           2             1.0         0.500000        0  \n",
       "3          9           1             1.0         1.000000        0  \n",
       "4         22           1             1.0         1.000000        0  \n",
       "5          9           4             0.0         0.000000        1  \n",
       "6         28           2             1.0         0.500000        1  \n",
       "7         28           1             1.0         1.000000        0  \n",
       "8          4           3             3.0         1.000000        0  \n",
       "9         28           1             0.0         0.000000        1  \n",
       "\n",
       "[10 rows x 117 columns]"
      ]
     },
     "execution_count": 2,
     "metadata": {},
     "output_type": "execute_result"
    }
   ],
   "source": [
    "data = pd.read_csv('final_feature_all.csv', na_filter=True)\n",
    "col_del=['all_opnum_1','all_opnum_2','all_opnum_3','all_opnum_4','all_opnum_5','all_opnum_6','all_opnum_7','all_opnum_8','all_opnum_9','all_opnum_10','all_opnum_11','all_opnum_13','all_opnum_14','all_opnum_15','all_opnum_17','all_opnum_21','all_opnum_27',\n",
    "        'valid_opnum_1','valid_opnum_4','valid_opnum_6','valid_opnum_7','valid_opnum_12','valid_opnum_13','valid_opnum_17','valid_opnum_18','valid_opnum_20','valid_opnum_21','valid_opnum_22','valid_opnum_23','valid_opnum_24','valid_opnum_26','valid_opnum_27','valid_opnum_28','valid_opnum_30',\n",
    "        'last_minutes_1','last_minutes_2','last_minutes_3','last_minutes_4','last_minutes_5','last_minutes_6','last_minutes_7','last_minutes_8','last_minutes_9','last_minutes_10','last_minutes_11','last_minutes_12','last_minutes_13','last_minutes_14','last_minutes_15','last_minutes_16','last_minutes_17','last_minutes_18','last_minutes_19','last_minutes_20','last_minutes_21','last_minutes_22','last_minutes_23','last_minutes_24','last_minutes_25','last_minutes_26','last_minutes_27','last_minutes_28','last_minutes_29','last_minutes_30',\n",
    "        'pre_min','pre_max','pre_sum','pre_mean','pre_std','mid_min','mid_max','mid_sum','mid_mean','mid_std','last_min','last_max','last_sum','last_mean','last_std','thirty_day_min','thirty_day_max','thirty_day_sum','thirty_day_mean','thirty_day_std',\n",
    "        'username','course_id','course_num','nondropout_num','nondropout_num','nondrop_precent','enrollment_id']###从data DataFrame中删除的列的名称\n",
    "data.head(10)"
   ]
  },
  {
   "cell_type": "code",
   "execution_count": 3,
   "metadata": {
    "colab": {
     "base_uri": "https://localhost:8080/"
    },
    "id": "0D1roi0fy9hN",
    "outputId": "1c7dad73-e697-47a5-9102-3fa04511a11d"
   },
   "outputs": [
    {
     "data": {
      "text/html": [
       "<div>\n",
       "<style scoped>\n",
       "    .dataframe tbody tr th:only-of-type {\n",
       "        vertical-align: middle;\n",
       "    }\n",
       "\n",
       "    .dataframe tbody tr th {\n",
       "        vertical-align: top;\n",
       "    }\n",
       "\n",
       "    .dataframe thead th {\n",
       "        text-align: right;\n",
       "    }\n",
       "</style>\n",
       "<table border=\"1\" class=\"dataframe\">\n",
       "  <thead>\n",
       "    <tr style=\"text-align: right;\">\n",
       "      <th></th>\n",
       "      <th>all_opnum_12</th>\n",
       "      <th>all_opnum_16</th>\n",
       "      <th>all_opnum_18</th>\n",
       "      <th>all_opnum_19</th>\n",
       "      <th>all_opnum_20</th>\n",
       "      <th>all_opnum_22</th>\n",
       "      <th>all_opnum_23</th>\n",
       "      <th>all_opnum_24</th>\n",
       "      <th>all_opnum_25</th>\n",
       "      <th>all_opnum_26</th>\n",
       "      <th>...</th>\n",
       "      <th>valid_opnum_9</th>\n",
       "      <th>valid_opnum_10</th>\n",
       "      <th>valid_opnum_11</th>\n",
       "      <th>valid_opnum_14</th>\n",
       "      <th>valid_opnum_15</th>\n",
       "      <th>valid_opnum_16</th>\n",
       "      <th>valid_opnum_19</th>\n",
       "      <th>valid_opnum_25</th>\n",
       "      <th>valid_opnum_29</th>\n",
       "      <th>dropout</th>\n",
       "    </tr>\n",
       "  </thead>\n",
       "  <tbody>\n",
       "    <tr>\n",
       "      <th>0</th>\n",
       "      <td>1</td>\n",
       "      <td>67</td>\n",
       "      <td>0</td>\n",
       "      <td>6</td>\n",
       "      <td>17</td>\n",
       "      <td>0</td>\n",
       "      <td>56</td>\n",
       "      <td>4</td>\n",
       "      <td>0</td>\n",
       "      <td>0</td>\n",
       "      <td>...</td>\n",
       "      <td>0</td>\n",
       "      <td>0</td>\n",
       "      <td>4</td>\n",
       "      <td>0</td>\n",
       "      <td>0</td>\n",
       "      <td>28</td>\n",
       "      <td>0</td>\n",
       "      <td>0</td>\n",
       "      <td>0</td>\n",
       "      <td>0</td>\n",
       "    </tr>\n",
       "    <tr>\n",
       "      <th>1</th>\n",
       "      <td>0</td>\n",
       "      <td>64</td>\n",
       "      <td>0</td>\n",
       "      <td>12</td>\n",
       "      <td>0</td>\n",
       "      <td>0</td>\n",
       "      <td>0</td>\n",
       "      <td>36</td>\n",
       "      <td>0</td>\n",
       "      <td>0</td>\n",
       "      <td>...</td>\n",
       "      <td>0</td>\n",
       "      <td>0</td>\n",
       "      <td>0</td>\n",
       "      <td>32</td>\n",
       "      <td>0</td>\n",
       "      <td>44</td>\n",
       "      <td>9</td>\n",
       "      <td>0</td>\n",
       "      <td>38</td>\n",
       "      <td>0</td>\n",
       "    </tr>\n",
       "    <tr>\n",
       "      <th>2</th>\n",
       "      <td>9</td>\n",
       "      <td>0</td>\n",
       "      <td>0</td>\n",
       "      <td>0</td>\n",
       "      <td>7</td>\n",
       "      <td>0</td>\n",
       "      <td>0</td>\n",
       "      <td>0</td>\n",
       "      <td>0</td>\n",
       "      <td>0</td>\n",
       "      <td>...</td>\n",
       "      <td>0</td>\n",
       "      <td>0</td>\n",
       "      <td>0</td>\n",
       "      <td>2</td>\n",
       "      <td>1</td>\n",
       "      <td>0</td>\n",
       "      <td>0</td>\n",
       "      <td>0</td>\n",
       "      <td>0</td>\n",
       "      <td>0</td>\n",
       "    </tr>\n",
       "    <tr>\n",
       "      <th>3</th>\n",
       "      <td>142</td>\n",
       "      <td>8</td>\n",
       "      <td>0</td>\n",
       "      <td>0</td>\n",
       "      <td>0</td>\n",
       "      <td>31</td>\n",
       "      <td>98</td>\n",
       "      <td>47</td>\n",
       "      <td>0</td>\n",
       "      <td>0</td>\n",
       "      <td>...</td>\n",
       "      <td>0</td>\n",
       "      <td>0</td>\n",
       "      <td>7</td>\n",
       "      <td>1</td>\n",
       "      <td>0</td>\n",
       "      <td>0</td>\n",
       "      <td>0</td>\n",
       "      <td>0</td>\n",
       "      <td>0</td>\n",
       "      <td>0</td>\n",
       "    </tr>\n",
       "    <tr>\n",
       "      <th>4</th>\n",
       "      <td>0</td>\n",
       "      <td>0</td>\n",
       "      <td>0</td>\n",
       "      <td>0</td>\n",
       "      <td>0</td>\n",
       "      <td>0</td>\n",
       "      <td>0</td>\n",
       "      <td>0</td>\n",
       "      <td>0</td>\n",
       "      <td>0</td>\n",
       "      <td>...</td>\n",
       "      <td>0</td>\n",
       "      <td>0</td>\n",
       "      <td>0</td>\n",
       "      <td>0</td>\n",
       "      <td>0</td>\n",
       "      <td>0</td>\n",
       "      <td>0</td>\n",
       "      <td>0</td>\n",
       "      <td>3</td>\n",
       "      <td>0</td>\n",
       "    </tr>\n",
       "    <tr>\n",
       "      <th>5</th>\n",
       "      <td>0</td>\n",
       "      <td>13</td>\n",
       "      <td>51</td>\n",
       "      <td>0</td>\n",
       "      <td>0</td>\n",
       "      <td>36</td>\n",
       "      <td>10</td>\n",
       "      <td>0</td>\n",
       "      <td>0</td>\n",
       "      <td>0</td>\n",
       "      <td>...</td>\n",
       "      <td>0</td>\n",
       "      <td>0</td>\n",
       "      <td>0</td>\n",
       "      <td>28</td>\n",
       "      <td>49</td>\n",
       "      <td>6</td>\n",
       "      <td>0</td>\n",
       "      <td>0</td>\n",
       "      <td>0</td>\n",
       "      <td>1</td>\n",
       "    </tr>\n",
       "    <tr>\n",
       "      <th>6</th>\n",
       "      <td>0</td>\n",
       "      <td>0</td>\n",
       "      <td>7</td>\n",
       "      <td>0</td>\n",
       "      <td>18</td>\n",
       "      <td>0</td>\n",
       "      <td>0</td>\n",
       "      <td>0</td>\n",
       "      <td>28</td>\n",
       "      <td>25</td>\n",
       "      <td>...</td>\n",
       "      <td>0</td>\n",
       "      <td>0</td>\n",
       "      <td>0</td>\n",
       "      <td>0</td>\n",
       "      <td>0</td>\n",
       "      <td>0</td>\n",
       "      <td>0</td>\n",
       "      <td>4</td>\n",
       "      <td>0</td>\n",
       "      <td>1</td>\n",
       "    </tr>\n",
       "    <tr>\n",
       "      <th>7</th>\n",
       "      <td>0</td>\n",
       "      <td>17</td>\n",
       "      <td>0</td>\n",
       "      <td>0</td>\n",
       "      <td>6</td>\n",
       "      <td>14</td>\n",
       "      <td>0</td>\n",
       "      <td>14</td>\n",
       "      <td>0</td>\n",
       "      <td>6</td>\n",
       "      <td>...</td>\n",
       "      <td>0</td>\n",
       "      <td>0</td>\n",
       "      <td>0</td>\n",
       "      <td>0</td>\n",
       "      <td>2</td>\n",
       "      <td>3</td>\n",
       "      <td>0</td>\n",
       "      <td>0</td>\n",
       "      <td>0</td>\n",
       "      <td>0</td>\n",
       "    </tr>\n",
       "    <tr>\n",
       "      <th>8</th>\n",
       "      <td>0</td>\n",
       "      <td>0</td>\n",
       "      <td>0</td>\n",
       "      <td>0</td>\n",
       "      <td>0</td>\n",
       "      <td>0</td>\n",
       "      <td>64</td>\n",
       "      <td>74</td>\n",
       "      <td>173</td>\n",
       "      <td>47</td>\n",
       "      <td>...</td>\n",
       "      <td>0</td>\n",
       "      <td>0</td>\n",
       "      <td>0</td>\n",
       "      <td>0</td>\n",
       "      <td>0</td>\n",
       "      <td>0</td>\n",
       "      <td>0</td>\n",
       "      <td>94</td>\n",
       "      <td>0</td>\n",
       "      <td>0</td>\n",
       "    </tr>\n",
       "    <tr>\n",
       "      <th>9</th>\n",
       "      <td>16</td>\n",
       "      <td>0</td>\n",
       "      <td>0</td>\n",
       "      <td>0</td>\n",
       "      <td>4</td>\n",
       "      <td>10</td>\n",
       "      <td>0</td>\n",
       "      <td>0</td>\n",
       "      <td>0</td>\n",
       "      <td>0</td>\n",
       "      <td>...</td>\n",
       "      <td>0</td>\n",
       "      <td>0</td>\n",
       "      <td>4</td>\n",
       "      <td>1</td>\n",
       "      <td>1</td>\n",
       "      <td>0</td>\n",
       "      <td>0</td>\n",
       "      <td>0</td>\n",
       "      <td>0</td>\n",
       "      <td>1</td>\n",
       "    </tr>\n",
       "  </tbody>\n",
       "</table>\n",
       "<p>10 rows × 27 columns</p>\n",
       "</div>"
      ],
      "text/plain": [
       "   all_opnum_12  all_opnum_16  all_opnum_18  all_opnum_19  all_opnum_20  \\\n",
       "0             1            67             0             6            17   \n",
       "1             0            64             0            12             0   \n",
       "2             9             0             0             0             7   \n",
       "3           142             8             0             0             0   \n",
       "4             0             0             0             0             0   \n",
       "5             0            13            51             0             0   \n",
       "6             0             0             7             0            18   \n",
       "7             0            17             0             0             6   \n",
       "8             0             0             0             0             0   \n",
       "9            16             0             0             0             4   \n",
       "\n",
       "   all_opnum_22  all_opnum_23  all_opnum_24  all_opnum_25  all_opnum_26  ...  \\\n",
       "0             0            56             4             0             0  ...   \n",
       "1             0             0            36             0             0  ...   \n",
       "2             0             0             0             0             0  ...   \n",
       "3            31            98            47             0             0  ...   \n",
       "4             0             0             0             0             0  ...   \n",
       "5            36            10             0             0             0  ...   \n",
       "6             0             0             0            28            25  ...   \n",
       "7            14             0            14             0             6  ...   \n",
       "8             0            64            74           173            47  ...   \n",
       "9            10             0             0             0             0  ...   \n",
       "\n",
       "   valid_opnum_9  valid_opnum_10  valid_opnum_11  valid_opnum_14  \\\n",
       "0              0               0               4               0   \n",
       "1              0               0               0              32   \n",
       "2              0               0               0               2   \n",
       "3              0               0               7               1   \n",
       "4              0               0               0               0   \n",
       "5              0               0               0              28   \n",
       "6              0               0               0               0   \n",
       "7              0               0               0               0   \n",
       "8              0               0               0               0   \n",
       "9              0               0               4               1   \n",
       "\n",
       "   valid_opnum_15  valid_opnum_16  valid_opnum_19  valid_opnum_25  \\\n",
       "0               0              28               0               0   \n",
       "1               0              44               9               0   \n",
       "2               1               0               0               0   \n",
       "3               0               0               0               0   \n",
       "4               0               0               0               0   \n",
       "5              49               6               0               0   \n",
       "6               0               0               0               4   \n",
       "7               2               3               0               0   \n",
       "8               0               0               0              94   \n",
       "9               1               0               0               0   \n",
       "\n",
       "   valid_opnum_29  dropout  \n",
       "0               0        0  \n",
       "1              38        0  \n",
       "2               0        0  \n",
       "3               0        0  \n",
       "4               3        0  \n",
       "5               0        1  \n",
       "6               0        1  \n",
       "7               0        0  \n",
       "8               0        0  \n",
       "9               0        1  \n",
       "\n",
       "[10 rows x 27 columns]"
      ]
     },
     "execution_count": 3,
     "metadata": {},
     "output_type": "execute_result"
    }
   ],
   "source": [
    "tr_data = data.drop(col_del,axis =1)\n",
    "tr_data.shape\n",
    "tr_data.head(10)"
   ]
  },
  {
   "cell_type": "code",
   "execution_count": 4,
   "metadata": {
    "id": "SFjcDF3s2QId",
    "scrolled": true
   },
   "outputs": [
    {
     "data": {
      "text/plain": [
       "0    0\n",
       "1    0\n",
       "2    0\n",
       "3    0\n",
       "4    0\n",
       "5    1\n",
       "6    1\n",
       "7    0\n",
       "8    0\n",
       "9    1\n",
       "Name: dropout, dtype: int64"
      ]
     },
     "execution_count": 4,
     "metadata": {},
     "output_type": "execute_result"
    }
   ],
   "source": [
    "X = tr_data.drop(['dropout'], axis = 'columns')###从 tr_data 中删除名为 'dropout' 的列。参数 axis = 'columns' 指定了操作是沿着列方向进行的（而不是行方向）\n",
    "Label_Data = tr_data['dropout']\n",
    "Label_Data.head(10)"
   ]
  },
  {
   "cell_type": "code",
   "execution_count": 5,
   "metadata": {
    "colab": {
     "base_uri": "https://localhost:8080/"
    },
    "id": "9lP_i3psy9y6",
    "outputId": "c80a98de-437f-4e47-fd4b-7369aa2d0941"
   },
   "outputs": [
    {
     "name": "stdout",
     "output_type": "stream",
     "text": [
      "Counter({1: 95581, 0: 24961})\n"
     ]
    }
   ],
   "source": [
    "# Generate and plot imbalanced classification dataset\n",
    "###生成并可视化一个不平衡分类数据集\n",
    "from collections import Counter\n",
    "from matplotlib import pyplot\n",
    "from numpy import where\n",
    "# summarize class distribution\n",
    "counter = Counter(tr_data['dropout'])###Counter对象来统计tr_data['dropout']列中每个唯一标签的出现次数\n",
    "print(counter)\n",
    "# scatter plot of examples by class label\n",
    "for label, _ in counter.items():###遍历counter对象中的每个项\n",
    "\trow_ix = where(tr_data['dropout'] == label)[0]"
   ]
  },
  {
   "cell_type": "code",
   "execution_count": 6,
   "metadata": {
    "id": "o4GOSe4tzcTv"
   },
   "outputs": [
    {
     "name": "stdout",
     "output_type": "stream",
     "text": [
      "Counter({0: 95581, 1: 95581})\n"
     ]
    }
   ],
   "source": [
    "###上采样来平衡不均衡数据\n",
    "# transform the dataset\n",
    "from imblearn.over_sampling import SMOTE###SMOTE是一种过采样技术，用于生成少数类样本，从而平衡数据集中的类别分布\n",
    "oversample = SMOTE()\n",
    "###fit_resample方法首先拟合数据（即计算必要的统计信息），然后对数据进行过采样。\n",
    "###X是特征数据，tr_data['dropout']是标签数据。\n",
    "###过采样后，得到的平衡数据集被存储在X_r（重新采样的特征数据）和y（重新采样的标签数据）中\n",
    "X_r, y = oversample.fit_resample(X, tr_data['dropout'])\n",
    "# summarize the new class distribution\n",
    "counter = Counter(y)\n",
    "print(counter)\n",
    "# scatter plot of examples by class label\n",
    "for label, _ in counter.items():\n",
    "\trow_ix = where(y == label)[0]"
   ]
  },
  {
   "cell_type": "code",
   "execution_count": 7,
   "metadata": {
    "id": "rz6JhCFr0Iin"
   },
   "outputs": [],
   "source": [
    "from sklearn.preprocessing import StandardScaler\n",
    "## Standardizing the data  数据标准化\n",
    "X_r2 = StandardScaler().fit_transform(X_r)"
   ]
  },
  {
   "cell_type": "code",
   "execution_count": 8,
   "metadata": {
    "id": "t7l5EpLY0IqL"
   },
   "outputs": [],
   "source": [
    "X_train,X_test,y_train,y_test = train_test_split(X_r2, y, test_size=0.3)"
   ]
  },
  {
   "cell_type": "code",
   "execution_count": 9,
   "metadata": {
    "colab": {
     "base_uri": "https://localhost:8080/"
    },
    "id": "a4uohF3BPMIU",
    "outputId": "b1d24e82-da51-42ca-f9ed-0d021c2538ea"
   },
   "outputs": [
    {
     "data": {
      "text/plain": [
       "((133813, 26), (133813,))"
      ]
     },
     "execution_count": 9,
     "metadata": {},
     "output_type": "execute_result"
    }
   ],
   "source": [
    "X_train.shape,y_train.shape "
   ]
  },
  {
   "cell_type": "code",
   "execution_count": 10,
   "metadata": {
    "colab": {
     "base_uri": "https://localhost:8080/"
    },
    "id": "4OaLUwRhPPhW",
    "outputId": "170cccab-ded4-4110-e701-3d103902a590"
   },
   "outputs": [
    {
     "data": {
      "text/plain": [
       "((57349, 26), (57349,))"
      ]
     },
     "execution_count": 10,
     "metadata": {},
     "output_type": "execute_result"
    }
   ],
   "source": [
    "X_test.shape,y_test.shape "
   ]
  },
  {
   "cell_type": "code",
   "execution_count": 11,
   "metadata": {
    "id": "eN6iBsXh0UJj"
   },
   "outputs": [],
   "source": [
    "# design network\n",
    "###准备数据以适应LSTM网络的输入和输出要求，以便进行后续的模型训练和验证。\n",
    "\n",
    "np.random.seed(7)###设置了NumPy的随机种子为7，以确保随机过程的可复现性\n",
    "\n",
    "# X_train et X_val sont des dataframe qui contient les features X_train 和 X_val 是包含特征的数据帧\n",
    "###这些变量将用于后续的LSTM网络训练和验证。注意，这里使用X_test作为验证集，而不是通常意义上的测试集\n",
    "train_LSTM_X=X_train\n",
    "val_LSTM_X=X_test\n",
    "\n",
    "\n",
    "## Reshape input to be 3D [samples, timesteps, features] (format requis par LSTM) 将输入重塑为 3D [样本、时间步长、特征]\n",
    "###通过reshape方法，代码将原始数据从二维（样本数×特征数）转换为三维（样本数×1×特征数）\n",
    "train_LSTM_X = train_LSTM_X.reshape((train_LSTM_X.shape[0], 1, train_LSTM_X.shape[1]))\n",
    "val_LSTM_X = val_LSTM_X.reshape((val_LSTM_X.shape[0], 1, val_LSTM_X.shape[1]))\n",
    "\n",
    "## Recuperation des labels恢复标签\n",
    "###这两行代码将训练集和验证集的标签分别赋值给train_LSTM_y和val_LSTM_y。这些标签将用于监督LSTM网络的训练过程，并通过比较预测值和实际标签来评估模型的性能\n",
    "train_LSTM_y=y_train\n",
    "val_LSTM_y=y_test\n"
   ]
  },
  {
   "cell_type": "code",
   "execution_count": 12,
   "metadata": {
    "id": "XOlGVbif0U-i"
   },
   "outputs": [],
   "source": [
    "\n",
    "\n",
    " ####定义了一个简单的LSTM（长短期记忆）神经网络模型，用于处理序列数据 \n",
    "###定义输入层 \n",
    "inputs = Input(shape=(1, train_LSTM_X.shape[2]))  # 输入层的shape需要与你重塑后的X_train匹配  \n",
    "###定义第一个LSTM层\n",
    "#  50：LSTM层的单元数（或称为神经元的数量）。\n",
    "# dropout=0.3：在每个训练步骤中，随机忽略30%的LSTM单元的输出，以防止过拟合。\n",
    "# return_sequences=True：返回完整的输出序列，而不是最后一个时间步的输出。这对于堆叠多个LSTM层是必要的。\n",
    "# recurrent_dropout=0.2：在每个训练步骤中，随机忽略20%的循环连接，以进一步防止过拟合。\n",
    "x1 = LSTM(50, dropout=0.3,return_sequences=True, recurrent_dropout=0.2)(inputs)  \n",
    "###定义第二个LSTM层\n",
    "x2 = LSTM(50, dropout=0.3, recurrent_dropout=0.2)(x1)  \n",
    "###定义输出层\n",
    "#该层有1个单元（即输出维度为1），并使用sigmoid激活函数。\n",
    "#sigmoid激活函数将输出限制在0到1之间，这在处理二分类问题时非常有用\n",
    "outputs = Dense(1, activation='sigmoid')(x2)  \n",
    "model = Model(inputs, outputs)  "
   ]
  },
  {
   "cell_type": "code",
   "execution_count": 13,
   "metadata": {
    "id": "rw1IxnEn0i7d"
   },
   "outputs": [],
   "source": [
    "###编译 LSTM 模型，使用二分类交叉熵作为损失函数，使用 Adam 优化器来更新权重，并在训练和验证过程中监控模型的准确率\n",
    "\n",
    "###loss='binary_crossentropy'指定了模型在训练期间要使用的损失函数   optimizer='adam'指定了模型在训练期间用于更新权重的优化算法\n",
    "###metrics=['accuracy']指定了在训练和验证期间要监控的指标列表\n",
    "model.compile(loss='binary_crossentropy', optimizer='adam', metrics=['accuracy'])"
   ]
  },
  {
   "cell_type": "code",
   "execution_count": 14,
   "metadata": {
    "id": "_jVAHW330VTL",
    "scrolled": true
   },
   "outputs": [
    {
     "name": "stdout",
     "output_type": "stream",
     "text": [
      "Epoch 1/100\n",
      "7/7 [==============================] - 9s 376ms/step - loss: 0.6896 - accuracy: 0.6207 - val_loss: 0.6841 - val_accuracy: 0.6979\n",
      "Epoch 2/100\n",
      "7/7 [==============================] - 2s 282ms/step - loss: 0.6814 - accuracy: 0.6845 - val_loss: 0.6735 - val_accuracy: 0.7221\n",
      "Epoch 3/100\n",
      "7/7 [==============================] - 2s 283ms/step - loss: 0.6705 - accuracy: 0.7025 - val_loss: 0.6586 - val_accuracy: 0.7297\n",
      "Epoch 4/100\n",
      "7/7 [==============================] - 2s 314ms/step - loss: 0.6556 - accuracy: 0.7102 - val_loss: 0.6391 - val_accuracy: 0.7334\n",
      "Epoch 5/100\n",
      "7/7 [==============================] - 2s 310ms/step - loss: 0.6369 - accuracy: 0.7137 - val_loss: 0.6159 - val_accuracy: 0.7347\n",
      "Epoch 6/100\n",
      "7/7 [==============================] - 2s 370ms/step - loss: 0.6157 - accuracy: 0.7153 - val_loss: 0.5919 - val_accuracy: 0.7363\n",
      "Epoch 7/100\n",
      "7/7 [==============================] - 2s 355ms/step - loss: 0.5948 - accuracy: 0.7178 - val_loss: 0.5706 - val_accuracy: 0.7386\n",
      "Epoch 8/100\n",
      "7/7 [==============================] - 3s 435ms/step - loss: 0.5775 - accuracy: 0.7211 - val_loss: 0.5536 - val_accuracy: 0.7415\n",
      "Epoch 9/100\n",
      "7/7 [==============================] - 3s 404ms/step - loss: 0.5645 - accuracy: 0.7234 - val_loss: 0.5406 - val_accuracy: 0.7447\n",
      "Epoch 10/100\n",
      "7/7 [==============================] - 3s 352ms/step - loss: 0.5555 - accuracy: 0.7271 - val_loss: 0.5306 - val_accuracy: 0.7484\n",
      "Epoch 11/100\n",
      "7/7 [==============================] - 3s 382ms/step - loss: 0.5475 - accuracy: 0.7313 - val_loss: 0.5227 - val_accuracy: 0.7519\n",
      "Epoch 12/100\n",
      "7/7 [==============================] - 3s 367ms/step - loss: 0.5415 - accuracy: 0.7353 - val_loss: 0.5163 - val_accuracy: 0.7559\n",
      "Epoch 13/100\n",
      "7/7 [==============================] - 2s 343ms/step - loss: 0.5380 - accuracy: 0.7385 - val_loss: 0.5114 - val_accuracy: 0.7592\n",
      "Epoch 14/100\n",
      "7/7 [==============================] - 2s 311ms/step - loss: 0.5334 - accuracy: 0.7431 - val_loss: 0.5074 - val_accuracy: 0.7628\n",
      "Epoch 15/100\n",
      "7/7 [==============================] - 2s 300ms/step - loss: 0.5302 - accuracy: 0.7453 - val_loss: 0.5039 - val_accuracy: 0.7647\n",
      "Epoch 16/100\n",
      "7/7 [==============================] - 2s 297ms/step - loss: 0.5270 - accuracy: 0.7480 - val_loss: 0.5010 - val_accuracy: 0.7667\n",
      "Epoch 17/100\n",
      "7/7 [==============================] - 2s 292ms/step - loss: 0.5254 - accuracy: 0.7492 - val_loss: 0.4985 - val_accuracy: 0.7680\n",
      "Epoch 18/100\n",
      "7/7 [==============================] - 2s 291ms/step - loss: 0.5240 - accuracy: 0.7510 - val_loss: 0.4966 - val_accuracy: 0.7696\n",
      "Epoch 19/100\n",
      "7/7 [==============================] - 2s 318ms/step - loss: 0.5221 - accuracy: 0.7526 - val_loss: 0.4950 - val_accuracy: 0.7706\n",
      "Epoch 20/100\n",
      "7/7 [==============================] - 2s 302ms/step - loss: 0.5212 - accuracy: 0.7527 - val_loss: 0.4936 - val_accuracy: 0.7712\n",
      "Epoch 21/100\n",
      "7/7 [==============================] - 2s 292ms/step - loss: 0.5211 - accuracy: 0.7536 - val_loss: 0.4925 - val_accuracy: 0.7722\n",
      "Epoch 22/100\n",
      "7/7 [==============================] - 2s 314ms/step - loss: 0.5203 - accuracy: 0.7550 - val_loss: 0.4916 - val_accuracy: 0.7727\n",
      "Epoch 23/100\n",
      "7/7 [==============================] - 2s 312ms/step - loss: 0.5185 - accuracy: 0.7558 - val_loss: 0.4909 - val_accuracy: 0.7730\n",
      "Epoch 24/100\n",
      "7/7 [==============================] - 2s 322ms/step - loss: 0.5192 - accuracy: 0.7560 - val_loss: 0.4902 - val_accuracy: 0.7734\n",
      "Epoch 25/100\n",
      "7/7 [==============================] - 2s 323ms/step - loss: 0.5178 - accuracy: 0.7574 - val_loss: 0.4895 - val_accuracy: 0.7734\n",
      "Epoch 26/100\n",
      "7/7 [==============================] - 2s 303ms/step - loss: 0.5174 - accuracy: 0.7567 - val_loss: 0.4892 - val_accuracy: 0.7745\n",
      "Epoch 27/100\n",
      "7/7 [==============================] - 2s 312ms/step - loss: 0.5160 - accuracy: 0.7580 - val_loss: 0.4887 - val_accuracy: 0.7744\n",
      "Epoch 28/100\n",
      "7/7 [==============================] - 2s 297ms/step - loss: 0.5157 - accuracy: 0.7578 - val_loss: 0.4883 - val_accuracy: 0.7746\n",
      "Epoch 29/100\n",
      "7/7 [==============================] - 2s 330ms/step - loss: 0.5168 - accuracy: 0.7577 - val_loss: 0.4881 - val_accuracy: 0.7748\n",
      "Epoch 30/100\n",
      "7/7 [==============================] - 2s 304ms/step - loss: 0.5155 - accuracy: 0.7592 - val_loss: 0.4878 - val_accuracy: 0.7747\n",
      "Epoch 31/100\n",
      "7/7 [==============================] - 2s 324ms/step - loss: 0.5152 - accuracy: 0.7588 - val_loss: 0.4876 - val_accuracy: 0.7749\n",
      "Epoch 32/100\n",
      "7/7 [==============================] - 2s 324ms/step - loss: 0.5138 - accuracy: 0.7592 - val_loss: 0.4874 - val_accuracy: 0.7749\n",
      "Epoch 33/100\n",
      "7/7 [==============================] - 2s 314ms/step - loss: 0.5143 - accuracy: 0.7605 - val_loss: 0.4873 - val_accuracy: 0.7754\n",
      "Epoch 34/100\n",
      "7/7 [==============================] - 2s 298ms/step - loss: 0.5132 - accuracy: 0.7609 - val_loss: 0.4870 - val_accuracy: 0.7753\n",
      "Epoch 35/100\n",
      "7/7 [==============================] - 2s 287ms/step - loss: 0.5132 - accuracy: 0.7609 - val_loss: 0.4867 - val_accuracy: 0.7754\n",
      "Epoch 36/100\n",
      "7/7 [==============================] - 2s 285ms/step - loss: 0.5126 - accuracy: 0.7611 - val_loss: 0.4865 - val_accuracy: 0.7755\n",
      "Epoch 37/100\n",
      "7/7 [==============================] - 2s 289ms/step - loss: 0.5124 - accuracy: 0.7614 - val_loss: 0.4862 - val_accuracy: 0.7754\n",
      "Epoch 38/100\n",
      "7/7 [==============================] - 2s 284ms/step - loss: 0.5113 - accuracy: 0.7623 - val_loss: 0.4862 - val_accuracy: 0.7758\n",
      "Epoch 39/100\n",
      "7/7 [==============================] - 2s 285ms/step - loss: 0.5115 - accuracy: 0.7620 - val_loss: 0.4860 - val_accuracy: 0.7758\n",
      "Epoch 40/100\n",
      "7/7 [==============================] - 2s 269ms/step - loss: 0.5116 - accuracy: 0.7613 - val_loss: 0.4859 - val_accuracy: 0.7757\n",
      "Epoch 41/100\n",
      "7/7 [==============================] - 2s 266ms/step - loss: 0.5110 - accuracy: 0.7625 - val_loss: 0.4858 - val_accuracy: 0.7757\n",
      "Epoch 42/100\n",
      "7/7 [==============================] - 2s 285ms/step - loss: 0.5105 - accuracy: 0.7622 - val_loss: 0.4858 - val_accuracy: 0.7758\n",
      "Epoch 43/100\n",
      "7/7 [==============================] - 2s 284ms/step - loss: 0.5105 - accuracy: 0.7621 - val_loss: 0.4855 - val_accuracy: 0.7759\n",
      "Epoch 44/100\n",
      "7/7 [==============================] - 2s 285ms/step - loss: 0.5089 - accuracy: 0.7636 - val_loss: 0.4854 - val_accuracy: 0.7760\n",
      "Epoch 45/100\n",
      "7/7 [==============================] - 2s 281ms/step - loss: 0.5096 - accuracy: 0.7633 - val_loss: 0.4852 - val_accuracy: 0.7760\n",
      "Epoch 46/100\n",
      "7/7 [==============================] - 2s 282ms/step - loss: 0.5090 - accuracy: 0.7637 - val_loss: 0.4852 - val_accuracy: 0.7760\n",
      "Epoch 47/100\n",
      "7/7 [==============================] - 2s 283ms/step - loss: 0.5077 - accuracy: 0.7654 - val_loss: 0.4850 - val_accuracy: 0.7760\n",
      "Epoch 48/100\n",
      "7/7 [==============================] - 2s 270ms/step - loss: 0.5076 - accuracy: 0.7644 - val_loss: 0.4850 - val_accuracy: 0.7762\n",
      "Epoch 49/100\n",
      "7/7 [==============================] - 2s 271ms/step - loss: 0.5071 - accuracy: 0.7653 - val_loss: 0.4847 - val_accuracy: 0.7760\n",
      "Epoch 50/100\n",
      "7/7 [==============================] - 2s 275ms/step - loss: 0.5069 - accuracy: 0.7649 - val_loss: 0.4846 - val_accuracy: 0.7761\n",
      "Epoch 51/100\n",
      "7/7 [==============================] - 2s 280ms/step - loss: 0.5051 - accuracy: 0.7654 - val_loss: 0.4844 - val_accuracy: 0.7762\n",
      "Epoch 52/100\n",
      "7/7 [==============================] - 2s 293ms/step - loss: 0.5074 - accuracy: 0.7633 - val_loss: 0.4845 - val_accuracy: 0.7763\n",
      "Epoch 53/100\n",
      "7/7 [==============================] - 2s 305ms/step - loss: 0.5055 - accuracy: 0.7657 - val_loss: 0.4844 - val_accuracy: 0.7762\n",
      "Epoch 54/100\n",
      "7/7 [==============================] - 2s 326ms/step - loss: 0.5045 - accuracy: 0.7668 - val_loss: 0.4843 - val_accuracy: 0.7763\n",
      "Epoch 55/100\n",
      "7/7 [==============================] - 2s 316ms/step - loss: 0.5055 - accuracy: 0.7654 - val_loss: 0.4842 - val_accuracy: 0.7764\n",
      "Epoch 56/100\n",
      "7/7 [==============================] - 2s 314ms/step - loss: 0.5040 - accuracy: 0.7653 - val_loss: 0.4841 - val_accuracy: 0.7764\n",
      "Epoch 57/100\n",
      "7/7 [==============================] - 2s 305ms/step - loss: 0.5053 - accuracy: 0.7665 - val_loss: 0.4840 - val_accuracy: 0.7764\n",
      "Epoch 58/100\n",
      "7/7 [==============================] - 2s 326ms/step - loss: 0.5043 - accuracy: 0.7657 - val_loss: 0.4839 - val_accuracy: 0.7765\n",
      "Epoch 59/100\n",
      "7/7 [==============================] - 2s 322ms/step - loss: 0.5030 - accuracy: 0.7676 - val_loss: 0.4839 - val_accuracy: 0.7764\n",
      "Epoch 60/100\n",
      "7/7 [==============================] - 2s 321ms/step - loss: 0.5038 - accuracy: 0.7666 - val_loss: 0.4839 - val_accuracy: 0.7762\n",
      "Epoch 61/100\n",
      "7/7 [==============================] - 2s 335ms/step - loss: 0.5016 - accuracy: 0.7689 - val_loss: 0.4837 - val_accuracy: 0.7765\n",
      "Epoch 62/100\n",
      "7/7 [==============================] - 3s 361ms/step - loss: 0.5023 - accuracy: 0.7668 - val_loss: 0.4836 - val_accuracy: 0.7766\n",
      "Epoch 63/100\n",
      "7/7 [==============================] - 3s 364ms/step - loss: 0.5024 - accuracy: 0.7682 - val_loss: 0.4835 - val_accuracy: 0.7767\n",
      "Epoch 64/100\n",
      "7/7 [==============================] - 3s 378ms/step - loss: 0.5016 - accuracy: 0.7682 - val_loss: 0.4835 - val_accuracy: 0.7766\n",
      "Epoch 65/100\n",
      "7/7 [==============================] - 2s 361ms/step - loss: 0.5013 - accuracy: 0.7681 - val_loss: 0.4834 - val_accuracy: 0.7766\n",
      "Epoch 66/100\n",
      "7/7 [==============================] - 3s 414ms/step - loss: 0.5006 - accuracy: 0.7683 - val_loss: 0.4834 - val_accuracy: 0.7766\n",
      "Epoch 67/100\n",
      "7/7 [==============================] - 3s 406ms/step - loss: 0.5012 - accuracy: 0.7684 - val_loss: 0.4832 - val_accuracy: 0.7766\n",
      "Epoch 68/100\n",
      "7/7 [==============================] - 2s 352ms/step - loss: 0.5007 - accuracy: 0.7676 - val_loss: 0.4831 - val_accuracy: 0.7765\n",
      "Epoch 69/100\n",
      "7/7 [==============================] - 2s 327ms/step - loss: 0.5003 - accuracy: 0.7696 - val_loss: 0.4831 - val_accuracy: 0.7766\n",
      "Epoch 70/100\n",
      "7/7 [==============================] - 2s 357ms/step - loss: 0.5010 - accuracy: 0.7690 - val_loss: 0.4830 - val_accuracy: 0.7765\n",
      "Epoch 71/100\n",
      "7/7 [==============================] - 2s 347ms/step - loss: 0.4999 - accuracy: 0.7689 - val_loss: 0.4830 - val_accuracy: 0.7766\n",
      "Epoch 72/100\n",
      "7/7 [==============================] - 2s 289ms/step - loss: 0.5003 - accuracy: 0.7690 - val_loss: 0.4830 - val_accuracy: 0.7768\n",
      "Epoch 73/100\n",
      "7/7 [==============================] - 2s 293ms/step - loss: 0.5007 - accuracy: 0.7679 - val_loss: 0.4829 - val_accuracy: 0.7767\n",
      "Epoch 74/100\n",
      "7/7 [==============================] - 2s 292ms/step - loss: 0.4989 - accuracy: 0.7692 - val_loss: 0.4828 - val_accuracy: 0.7765\n",
      "Epoch 75/100\n",
      "7/7 [==============================] - 2s 316ms/step - loss: 0.4991 - accuracy: 0.7694 - val_loss: 0.4829 - val_accuracy: 0.7767\n",
      "Epoch 76/100\n",
      "7/7 [==============================] - 2s 335ms/step - loss: 0.4990 - accuracy: 0.7694 - val_loss: 0.4829 - val_accuracy: 0.7766\n",
      "Epoch 77/100\n",
      "7/7 [==============================] - 2s 290ms/step - loss: 0.4983 - accuracy: 0.7691 - val_loss: 0.4829 - val_accuracy: 0.7767\n",
      "Epoch 78/100\n",
      "7/7 [==============================] - 2s 291ms/step - loss: 0.4984 - accuracy: 0.7694 - val_loss: 0.4829 - val_accuracy: 0.7768\n",
      "Epoch 79/100\n",
      "7/7 [==============================] - 2s 292ms/step - loss: 0.4996 - accuracy: 0.7692 - val_loss: 0.4828 - val_accuracy: 0.7767\n",
      "Epoch 80/100\n",
      "7/7 [==============================] - 2s 294ms/step - loss: 0.4980 - accuracy: 0.7692 - val_loss: 0.4827 - val_accuracy: 0.7766\n",
      "Epoch 81/100\n",
      "7/7 [==============================] - 2s 300ms/step - loss: 0.4976 - accuracy: 0.7696 - val_loss: 0.4827 - val_accuracy: 0.7766\n",
      "Epoch 82/100\n",
      "7/7 [==============================] - 2s 298ms/step - loss: 0.4985 - accuracy: 0.7693 - val_loss: 0.4826 - val_accuracy: 0.7768\n",
      "Epoch 83/100\n",
      "7/7 [==============================] - 2s 304ms/step - loss: 0.4973 - accuracy: 0.7700 - val_loss: 0.4825 - val_accuracy: 0.7771\n",
      "Epoch 84/100\n",
      "7/7 [==============================] - 2s 288ms/step - loss: 0.4972 - accuracy: 0.7696 - val_loss: 0.4824 - val_accuracy: 0.7772\n",
      "Epoch 85/100\n",
      "7/7 [==============================] - 2s 282ms/step - loss: 0.4975 - accuracy: 0.7699 - val_loss: 0.4824 - val_accuracy: 0.7771\n",
      "Epoch 86/100\n",
      "7/7 [==============================] - 2s 302ms/step - loss: 0.4980 - accuracy: 0.7687 - val_loss: 0.4824 - val_accuracy: 0.7774\n",
      "Epoch 87/100\n",
      "7/7 [==============================] - 2s 297ms/step - loss: 0.4972 - accuracy: 0.7707 - val_loss: 0.4824 - val_accuracy: 0.7770\n",
      "Epoch 88/100\n",
      "7/7 [==============================] - 2s 309ms/step - loss: 0.4973 - accuracy: 0.7699 - val_loss: 0.4824 - val_accuracy: 0.7773\n",
      "Epoch 89/100\n",
      "7/7 [==============================] - 2s 320ms/step - loss: 0.4972 - accuracy: 0.7702 - val_loss: 0.4822 - val_accuracy: 0.7774\n",
      "Epoch 90/100\n",
      "7/7 [==============================] - 2s 314ms/step - loss: 0.4965 - accuracy: 0.7706 - val_loss: 0.4822 - val_accuracy: 0.7773\n",
      "Epoch 91/100\n",
      "7/7 [==============================] - 2s 327ms/step - loss: 0.4963 - accuracy: 0.7705 - val_loss: 0.4823 - val_accuracy: 0.7777\n",
      "Epoch 92/100\n",
      "7/7 [==============================] - 2s 304ms/step - loss: 0.4967 - accuracy: 0.7702 - val_loss: 0.4823 - val_accuracy: 0.7774\n",
      "Epoch 93/100\n",
      "7/7 [==============================] - 2s 322ms/step - loss: 0.4959 - accuracy: 0.7703 - val_loss: 0.4821 - val_accuracy: 0.7776\n",
      "Epoch 94/100\n",
      "7/7 [==============================] - 2s 324ms/step - loss: 0.4958 - accuracy: 0.7711 - val_loss: 0.4821 - val_accuracy: 0.7778\n",
      "Epoch 95/100\n",
      "7/7 [==============================] - 2s 329ms/step - loss: 0.4959 - accuracy: 0.7703 - val_loss: 0.4820 - val_accuracy: 0.7779\n",
      "Epoch 96/100\n",
      "7/7 [==============================] - 2s 318ms/step - loss: 0.4961 - accuracy: 0.7701 - val_loss: 0.4820 - val_accuracy: 0.7781\n",
      "Epoch 97/100\n",
      "7/7 [==============================] - 2s 304ms/step - loss: 0.4958 - accuracy: 0.7711 - val_loss: 0.4819 - val_accuracy: 0.7782\n",
      "Epoch 98/100\n",
      "7/7 [==============================] - 2s 344ms/step - loss: 0.4955 - accuracy: 0.7700 - val_loss: 0.4818 - val_accuracy: 0.7780\n",
      "Epoch 99/100\n",
      "7/7 [==============================] - 2s 342ms/step - loss: 0.4957 - accuracy: 0.7707 - val_loss: 0.4818 - val_accuracy: 0.7781\n",
      "Epoch 100/100\n",
      "7/7 [==============================] - 2s 301ms/step - loss: 0.4952 - accuracy: 0.7711 - val_loss: 0.4818 - val_accuracy: 0.7778\n"
     ]
    }
   ],
   "source": [
    "###记录了训练过程中的损失和指标的变化情况\n",
    "###epochs=100指定了模型训练的轮数。batch_size=20000指定了模型在每次更新权重时所使用的样本数量validation_data=(val_LSTM_X, val_LSTM_y)提供了用于验证的数据集\n",
    "history=model.fit(train_LSTM_X, train_LSTM_y,epochs=100,batch_size=20000, validation_data=(val_LSTM_X, val_LSTM_y))"
   ]
  },
  {
   "cell_type": "code",
   "execution_count": 15,
   "metadata": {},
   "outputs": [
    {
     "data": {
      "image/png": "[encoded data removed]",
      "text/plain": [
       "<Figure size 640x480 with 1 Axes>"
      ]
     },
     "metadata": {},
     "output_type": "display_data"
    },
    {
     "data": {
      "image/png": "[encoded data removed]",
      "text/plain": [
       "<Figure size 640x480 with 1 Axes>"
      ]
     },
     "metadata": {},
     "output_type": "display_data"
    }
   ],
   "source": [
    "###自己加\n",
    "# 获取训练过程中的损失值  \n",
    "train_loss = history.history['loss']  \n",
    "val_loss = history.history['val_loss']  \n",
    "  \n",
    "# 获取训练过程中的准确率  \n",
    "train_acc = history.history['accuracy']  \n",
    "val_acc = history.history['val_accuracy']  \n",
    "  \n",
    "# 使用 matplotlib 绘制损失和准确率的曲线  \n",
    "import matplotlib.pyplot as plt  \n",
    "  \n",
    "plt.plot(train_loss, label='Training Loss')  \n",
    "plt.plot(val_loss, label='Validation Loss')  \n",
    "plt.legend()  \n",
    "plt.show()  \n",
    "  \n",
    "plt.plot(train_acc, label='Training Accuracy')  \n",
    "plt.plot(val_acc, label='Validation Accuracy')  \n",
    "plt.legend()  \n",
    "plt.show()"
   ]
  },
  {
   "cell_type": "code",
   "execution_count": 16,
   "metadata": {
    "colab": {
     "base_uri": "https://localhost:8080/"
    },
    "id": "gLCxQgUtIV6A",
    "outputId": "ac8b52c7-0d1c-476b-f5d2-396947e122b7"
   },
   "outputs": [
    {
     "name": "stdout",
     "output_type": "stream",
     "text": [
      "INFO:tensorflow:Assets written to: Save_Model\\assets\n"
     ]
    },
    {
     "name": "stderr",
     "output_type": "stream",
     "text": [
      "INFO:tensorflow:Assets written to: Save_Model\\assets\n"
     ]
    },
    {
     "name": "stdout",
     "output_type": "stream",
     "text": [
      "Saved model to disk\n"
     ]
    }
   ],
   "source": [
    "# save model and architecture to single file\n",
    "# model.save('Save_Model.h5')\n",
    "model.save('Save_Model')###将模型的结构（包括其配置、权重和训练配置）保存到一个名为 'Save_Model' 的文件夹中。这个文件夹将包含多个文件，它们共同描述了你的模型。\n",
    "print(\"Saved model to disk\")"
   ]
  },
  {
   "cell_type": "code",
   "execution_count": 17,
   "metadata": {
    "id": "YZ58n-qPJEub"
   },
   "outputs": [
    {
     "name": "stdout",
     "output_type": "stream",
     "text": [
      "Model: \"model\"\n",
      "_________________________________________________________________\n",
      " Layer (type)                Output Shape              Param #   \n",
      "=================================================================\n",
      " input_1 (InputLayer)        [(None, 1, 26)]           0         \n",
      "                                                                 \n",
      " lstm (LSTM)                 (None, 1, 50)             15400     \n",
      "                                                                 \n",
      " lstm_1 (LSTM)               (None, 50)                20200     \n",
      "                                                                 \n",
      " dense (Dense)               (None, 1)                 51        \n",
      "                                                                 \n",
      "=================================================================\n",
      "Total params: 35651 (139.26 KB)\n",
      "Trainable params: 35651 (139.26 KB)\n",
      "Non-trainable params: 0 (0.00 Byte)\n",
      "_________________________________________________________________\n"
     ]
    }
   ],
   "source": [
    "# load and evaluate a saved model\n",
    "from numpy import loadtxt\n",
    "from keras.models import load_model\n",
    " \n",
    "# load model# 加载模型 \n",
    "# model = load_model('Save_Model.h5')\n",
    "model = load_model('Save_Model')\n",
    "# summarize model.# 概括模型  \n",
    "model.summary()  # 打印出模型的摘要，包括每一层的名称、输出形状和参数数量等信息\n"
   ]
  },
  {
   "cell_type": "code",
   "execution_count": 18,
   "metadata": {
    "colab": {
     "base_uri": "https://localhost:8080/"
    },
    "id": "U6xqSOxSJHd8",
    "outputId": "b0ec8c83-ea5e-469d-bcf5-c222329befe3"
   },
   "outputs": [
    {
     "name": "stdout",
     "output_type": "stream",
     "text": [
      "Train: 0.778, Test: 0.778\n"
     ]
    }
   ],
   "source": [
    "# evaluate the model评估加载的模型在训练数据集和验证数据集上的性能\n",
    "### 评估模型在训练数据集上的性能  \n",
    "_, train_acc = model.evaluate(train_LSTM_X, train_LSTM_y, verbose=0)\n",
    "### 评估模型在验证数据集上的性能 \n",
    "_, test_acc = model.evaluate(val_LSTM_X, val_LSTM_y, verbose=0)\n",
    "### 打印训练集和验证集上的准确率 \n",
    "print('Train: %.3f, Test: %.3f' % (train_acc, test_acc))"
   ]
  },
  {
   "cell_type": "code",
   "execution_count": 19,
   "metadata": {
    "colab": {
     "base_uri": "https://localhost:8080/",
     "height": 281
    },
    "id": "hYW2snaetW2W",
    "outputId": "29228cf1-7ac4-4936-d3f1-162b72c11932"
   },
   "outputs": [
    {
     "data": {
      "image/png": "[encoded data removed]",
      "text/plain": [
       "<Figure size 640x480 with 2 Axes>"
      ]
     },
     "metadata": {},
     "output_type": "display_data"
    }
   ],
   "source": [
    "# plot loss during training\n",
    "pyplot.subplot(211)### 创建一个 2x1 的子图网格，并选择第一个位置（从上到下，从左到右）  \n",
    "pyplot.title('Loss')### 设置子图的标题为 'Loss' \n",
    "pyplot.plot(history.history['loss'], label='train')### 绘制训练过程中的损失变化，标签为 'train' \n",
    "pyplot.plot(history.history['val_loss'], label='test')### 绘制验证过程中的损失变化，标签为 'test' \n",
    "pyplot.legend()### 显示图例\n",
    "# plot accuracy during training\n",
    "\n",
    "pyplot.subplot(212)\n",
    "pyplot.title('Accuracy')\n",
    "pyplot.plot(history.history['accuracy'], label='train')\n",
    "pyplot.plot(history.history['val_accuracy'], label='test')\n",
    "pyplot.legend()\n",
    "\n",
    "pyplot.show()"
   ]
  },
  {
   "cell_type": "code",
   "execution_count": 20,
   "metadata": {
    "id": "lUAD5FIS3Z1I"
   },
   "outputs": [
    {
     "name": "stdout",
     "output_type": "stream",
     "text": [
      "[0 1 1 ... 1 0 0]\n",
      "\n",
      "\n",
      "126531    0\n",
      "130875    0\n",
      "171512    0\n",
      "5788      1\n",
      "112296    1\n",
      "         ..\n",
      "123714    0\n",
      "31802     1\n",
      "77376     1\n",
      "16372     1\n",
      "15641     1\n",
      "Name: dropout, Length: 57349, dtype: int64\n"
     ]
    }
   ],
   "source": [
    "# predict probabilities for test set\n",
    "###用于预测测试集（在这里是验证集 val_LSTM_X）的概率，并将这些概率转换为整数标签，\n",
    "###然后与真实的验证集标签 val_LSTM_y 进行比较\n",
    "yhat_probs = model.predict(val_LSTM_X, verbose=0)\n",
    "# reduce to 1d array将概率降维为 1D 数组\n",
    "yhat_probs = yhat_probs[:, 0]\n",
    "yhat_probs = np.around(yhat_probs,0).astype(int)#.around()是四舍五入的函数 第二个参数0表示保留0位小数，也就只保留整数！！ .astype(int) 将浮点数转化为int型\n",
    "print(yhat_probs)\n",
    "print(\"\\n\")\n",
    "print(val_LSTM_y)"
   ]
  },
  {
   "cell_type": "code",
   "execution_count": 40,
   "metadata": {
    "colab": {
     "base_uri": "https://localhost:8080/"
    },
    "id": "eiN2cjwX4Dzp",
    "outputId": "86ee0069-2931-41b4-bbb3-90a6a3940a21"
   },
   "outputs": [
    {
     "name": "stdout",
     "output_type": "stream",
     "text": [
      "Accuracy_Lstm: 0.777799\n",
      "Precision: 0.735676\n",
      "Recall: 0.867854\n",
      "f1_score: 0.796317\n"
     ]
    }
   ],
   "source": [
    "# demonstration of calculating metrics for a neural network model using sklearn\n",
    "###计算神经网络模型在验证集上的性能指标。这些指标包括准确率（accuracy）、精确率（precision）和召回率（recall）\n",
    "from sklearn.metrics import accuracy_score\n",
    "from sklearn.metrics import precision_score\n",
    "from sklearn.metrics import recall_score, f1_score  \n",
    "from sklearn.metrics import confusion_matrix\n",
    "\n",
    "# accuracy: (tp + tn) / (p + n)准确率是分类器正确分类的样本数与总样本数之比\n",
    "accuracy = accuracy_score(val_LSTM_y, yhat_probs)\n",
    "print('Accuracy_Lstm: %f' % accuracy)\n",
    "# precision tp / (tp + fp)精确率是针对预测为正类的样本而言的，它表示实际为正类的样本占预测为正类样本的比例\n",
    "###精确率越高，说明模型预测为正类的样本中，真正为正类的样本比例越高\n",
    "precision = precision_score(val_LSTM_y, yhat_probs)\n",
    "print('Precision: %f' % precision)\n",
    "# recall: tp / (tp + fn)召回率也称为真正率（True Positive Rate, TPR），它表示实际为正类的样本中被预测为正类的比例。\n",
    "###召回率越高，说明模型能够找出更多实际为正类的样本\n",
    "recall = recall_score(val_LSTM_y, yhat_probs)\n",
    "print('Recall: %f' % recall)\n",
    "f1 = f1_score(val_LSTM_y, yhat_probs)  \n",
    "print('f1_score: %f' % f1)"
   ]
  },
  {
   "cell_type": "code",
   "execution_count": 22,
   "metadata": {
    "id": "02D_-hIJ4JiB"
   },
   "outputs": [],
   "source": [
    "%matplotlib inline\n",
    "from sklearn.metrics import confusion_matrix\n",
    "import itertools\n",
    "import matplotlib.pyplot as plt"
   ]
  },
  {
   "cell_type": "code",
   "execution_count": 23,
   "metadata": {
    "id": "D5jRpnhBCKKM"
   },
   "outputs": [],
   "source": [
    "cm = confusion_matrix(y_true=val_LSTM_y, y_pred=yhat_probs)"
   ]
  },
  {
   "cell_type": "code",
   "execution_count": 24,
   "metadata": {
    "id": "G6wvKPIQCKYs"
   },
   "outputs": [],
   "source": [
    "def plot_confusion_matrix(cm, classes,\n",
    "                        normalize=False,\n",
    "                        title='Confusion matrix',\n",
    "                        cmap=plt.cm.Blues):\n",
    "    \"\"\"\n",
    "    This function prints and plots the confusion matrix.\n",
    "    Normalization can be applied by setting `normalize=True`.\n",
    "    \"\"\"\n",
    "    plt.imshow(cm, interpolation='nearest', cmap=cmap)\n",
    "    plt.title(title)\n",
    "    plt.colorbar()\n",
    "    tick_marks = np.arange(len(classes))\n",
    "    plt.xticks(tick_marks, classes, rotation=45)\n",
    "    plt.yticks(tick_marks, classes)\n",
    "\n",
    "    if normalize:\n",
    "        cm = cm.astype('float') / cm.sum(axis=1)[:, np.newaxis]\n",
    "        print(\"Normalized confusion matrix\")\n",
    "    else:\n",
    "        print('Confusion matrix, without normalization')\n",
    "\n",
    "    print(cm)\n",
    "\n",
    "    thresh = cm.max() / 2.\n",
    "    for i, j in itertools.product(range(cm.shape[0]), range(cm.shape[1])):\n",
    "        plt.text(j, i, cm[i, j],\n",
    "            horizontalalignment=\"center\",\n",
    "            color=\"white\" if cm[i, j] > thresh else \"black\")\n",
    "\n",
    "    plt.tight_layout()\n",
    "    plt.ylabel('True label')\n",
    "    plt.xlabel('Predicted label')\n",
    "labels = ['Nondropout','Dropout']"
   ]
  },
  {
   "cell_type": "code",
   "execution_count": 25,
   "metadata": {
    "colab": {
     "base_uri": "https://localhost:8080/",
     "height": 362
    },
    "id": "K3CQINI1VyI8",
    "outputId": "4d02c5dc-54cc-4414-d8da-fe62508573c9"
   },
   "outputs": [
    {
     "name": "stdout",
     "output_type": "stream",
     "text": [
      "Confusion matrix, without normalization\n",
      "[[19696  8950]\n",
      " [ 3793 24910]]\n"
     ]
    },
    {
     "data": {
      "image/png": "[encoded data removed]",
      "text/plain": [
       "<Figure size 640x480 with 2 Axes>"
      ]
     },
     "metadata": {},
     "output_type": "display_data"
    }
   ],
   "source": [
    "plot_confusion_matrix(cm=cm, classes=labels, title='LSTM')"
   ]
  },
  {
   "cell_type": "code",
   "execution_count": 26,
   "metadata": {
    "id": "9eyxl7gxDjKk"
   },
   "outputs": [],
   "source": [
    "class attention(Layer):\n",
    "    def __init__(self,**kwargs):\n",
    "        super(attention,self).__init__(**kwargs)\n",
    "\n",
    "    def build(self,input_shape):\n",
    "        self.W=self.add_weight(name=\"att_weight\",shape=(input_shape[-1],1),initializer=\"normal\")\n",
    "        self.b=self.add_weight(name=\"att_bias\",shape=(input_shape[1],1),initializer=\"zeros\")        \n",
    "        super(attention, self).build(input_shape)\n",
    "\n",
    "    def call(self,x):\n",
    "        et=K.squeeze(K.tanh(K.dot(x,self.W)+self.b),axis=-1)\n",
    "        at=K.softmax(et)\n",
    "        at=K.expand_dims(at,axis=-1)\n",
    "        output=x*at\n",
    "        return K.sum(output,axis=1)\n",
    "\n",
    "    def compute_output_shape(self,input_shape):\n",
    "        return (input_shape[0],input_shape[-1])\n",
    "\n",
    "    def get_config(self):\n",
    "        return super(attention,self).get_config()"
   ]
  },
  {
   "cell_type": "code",
   "execution_count": 27,
   "metadata": {
    "id": "UdJq4u3EC_Sy"
   },
   "outputs": [],
   "source": [
    "# inputs1=Input((1,9))\n",
    "inputs1 = Input(shape=(1, train_LSTM_X.shape[2]))\n",
    "att_in=LSTM(50,return_sequences=True,dropout=0.3,recurrent_dropout=0.2)(inputs1)\n",
    "att_in_1=LSTM(50,return_sequences=True,dropout=0.3,recurrent_dropout=0.2)(att_in)\n",
    "att_out=attention()(att_in_1)\n",
    "outputs1=Dense(1,activation='sigmoid',trainable=True)(att_out)\n",
    "model1=Model(inputs1,outputs1)"
   ]
  },
  {
   "cell_type": "code",
   "execution_count": 28,
   "metadata": {
    "id": "vl454wu1C_sr"
   },
   "outputs": [],
   "source": [
    "model1.compile(loss='binary_crossentropy', optimizer='adam', metrics=['accuracy'])"
   ]
  },
  {
   "cell_type": "code",
   "execution_count": 29,
   "metadata": {
    "id": "wvr6t9ivDryi",
    "scrolled": true
   },
   "outputs": [
    {
     "name": "stdout",
     "output_type": "stream",
     "text": [
      "Epoch 1/100\n",
      "5/5 [==============================] - 10s 578ms/step - loss: 0.6909 - accuracy: 0.6131 - val_loss: 0.6867 - val_accuracy: 0.7029\n",
      "Epoch 2/100\n",
      "5/5 [==============================] - 4s 616ms/step - loss: 0.6853 - accuracy: 0.6843 - val_loss: 0.6801 - val_accuracy: 0.7249\n",
      "Epoch 3/100\n",
      "5/5 [==============================] - 3s 559ms/step - loss: 0.6790 - accuracy: 0.7015 - val_loss: 0.6721 - val_accuracy: 0.7293\n",
      "Epoch 4/100\n",
      "5/5 [==============================] - 2s 470ms/step - loss: 0.6711 - accuracy: 0.7093 - val_loss: 0.6620 - val_accuracy: 0.7325\n",
      "Epoch 5/100\n",
      "5/5 [==============================] - 2s 398ms/step - loss: 0.6612 - accuracy: 0.7123 - val_loss: 0.6493 - val_accuracy: 0.7341\n",
      "Epoch 6/100\n",
      "5/5 [==============================] - 2s 374ms/step - loss: 0.6493 - accuracy: 0.7141 - val_loss: 0.6341 - val_accuracy: 0.7345\n",
      "Epoch 7/100\n",
      "5/5 [==============================] - 2s 376ms/step - loss: 0.6350 - accuracy: 0.7154 - val_loss: 0.6171 - val_accuracy: 0.7351\n",
      "Epoch 8/100\n",
      "5/5 [==============================] - 2s 358ms/step - loss: 0.6193 - accuracy: 0.7170 - val_loss: 0.5993 - val_accuracy: 0.7358\n",
      "Epoch 9/100\n",
      "5/5 [==============================] - 2s 350ms/step - loss: 0.6035 - accuracy: 0.7180 - val_loss: 0.5822 - val_accuracy: 0.7368\n",
      "Epoch 10/100\n",
      "5/5 [==============================] - 2s 373ms/step - loss: 0.5893 - accuracy: 0.7192 - val_loss: 0.5669 - val_accuracy: 0.7391\n",
      "Epoch 11/100\n",
      "5/5 [==============================] - 2s 390ms/step - loss: 0.5762 - accuracy: 0.7208 - val_loss: 0.5542 - val_accuracy: 0.7413\n",
      "Epoch 12/100\n",
      "5/5 [==============================] - 2s 378ms/step - loss: 0.5655 - accuracy: 0.7242 - val_loss: 0.5439 - val_accuracy: 0.7433\n",
      "Epoch 13/100\n",
      "5/5 [==============================] - 2s 361ms/step - loss: 0.5587 - accuracy: 0.7244 - val_loss: 0.5357 - val_accuracy: 0.7461\n",
      "Epoch 14/100\n",
      "5/5 [==============================] - 2s 373ms/step - loss: 0.5520 - accuracy: 0.7272 - val_loss: 0.5290 - val_accuracy: 0.7487\n",
      "Epoch 15/100\n",
      "5/5 [==============================] - 2s 343ms/step - loss: 0.5474 - accuracy: 0.7299 - val_loss: 0.5235 - val_accuracy: 0.7512\n",
      "Epoch 16/100\n",
      "5/5 [==============================] - 2s 351ms/step - loss: 0.5426 - accuracy: 0.7334 - val_loss: 0.5189 - val_accuracy: 0.7536\n",
      "Epoch 17/100\n",
      "5/5 [==============================] - 2s 342ms/step - loss: 0.5400 - accuracy: 0.7356 - val_loss: 0.5150 - val_accuracy: 0.7560\n",
      "Epoch 18/100\n",
      "5/5 [==============================] - 2s 373ms/step - loss: 0.5369 - accuracy: 0.7388 - val_loss: 0.5116 - val_accuracy: 0.7587\n",
      "Epoch 19/100\n",
      "5/5 [==============================] - 2s 388ms/step - loss: 0.5335 - accuracy: 0.7414 - val_loss: 0.5088 - val_accuracy: 0.7617\n",
      "Epoch 20/100\n",
      "5/5 [==============================] - 2s 387ms/step - loss: 0.5320 - accuracy: 0.7441 - val_loss: 0.5063 - val_accuracy: 0.7634\n",
      "Epoch 21/100\n",
      "5/5 [==============================] - 2s 382ms/step - loss: 0.5297 - accuracy: 0.7457 - val_loss: 0.5040 - val_accuracy: 0.7653\n",
      "Epoch 22/100\n",
      "5/5 [==============================] - 2s 403ms/step - loss: 0.5278 - accuracy: 0.7471 - val_loss: 0.5019 - val_accuracy: 0.7664\n",
      "Epoch 23/100\n",
      "5/5 [==============================] - 2s 415ms/step - loss: 0.5256 - accuracy: 0.7495 - val_loss: 0.4999 - val_accuracy: 0.7673\n",
      "Epoch 24/100\n",
      "5/5 [==============================] - 2s 374ms/step - loss: 0.5257 - accuracy: 0.7497 - val_loss: 0.4983 - val_accuracy: 0.7685\n",
      "Epoch 25/100\n",
      "5/5 [==============================] - 2s 357ms/step - loss: 0.5242 - accuracy: 0.7506 - val_loss: 0.4969 - val_accuracy: 0.7693\n",
      "Epoch 26/100\n",
      "5/5 [==============================] - 2s 357ms/step - loss: 0.5222 - accuracy: 0.7527 - val_loss: 0.4958 - val_accuracy: 0.7702\n",
      "Epoch 27/100\n",
      "5/5 [==============================] - 2s 396ms/step - loss: 0.5207 - accuracy: 0.7534 - val_loss: 0.4947 - val_accuracy: 0.7710\n",
      "Epoch 28/100\n",
      "5/5 [==============================] - 2s 382ms/step - loss: 0.5210 - accuracy: 0.7536 - val_loss: 0.4937 - val_accuracy: 0.7713\n",
      "Epoch 29/100\n",
      "5/5 [==============================] - 2s 372ms/step - loss: 0.5209 - accuracy: 0.7538 - val_loss: 0.4928 - val_accuracy: 0.7719\n",
      "Epoch 30/100\n",
      "5/5 [==============================] - 2s 362ms/step - loss: 0.5204 - accuracy: 0.7551 - val_loss: 0.4921 - val_accuracy: 0.7725\n",
      "Epoch 31/100\n",
      "5/5 [==============================] - 2s 391ms/step - loss: 0.5184 - accuracy: 0.7559 - val_loss: 0.4915 - val_accuracy: 0.7727\n",
      "Epoch 32/100\n",
      "5/5 [==============================] - 2s 358ms/step - loss: 0.5180 - accuracy: 0.7570 - val_loss: 0.4910 - val_accuracy: 0.7731\n",
      "Epoch 33/100\n",
      "5/5 [==============================] - 2s 396ms/step - loss: 0.5177 - accuracy: 0.7574 - val_loss: 0.4906 - val_accuracy: 0.7730\n",
      "Epoch 34/100\n",
      "5/5 [==============================] - 2s 382ms/step - loss: 0.5171 - accuracy: 0.7570 - val_loss: 0.4901 - val_accuracy: 0.7731\n",
      "Epoch 35/100\n",
      "5/5 [==============================] - 2s 391ms/step - loss: 0.5184 - accuracy: 0.7570 - val_loss: 0.4896 - val_accuracy: 0.7734\n",
      "Epoch 36/100\n",
      "5/5 [==============================] - 2s 445ms/step - loss: 0.5177 - accuracy: 0.7566 - val_loss: 0.4894 - val_accuracy: 0.7739\n",
      "Epoch 37/100\n",
      "5/5 [==============================] - 2s 381ms/step - loss: 0.5161 - accuracy: 0.7584 - val_loss: 0.4891 - val_accuracy: 0.7743\n",
      "Epoch 38/100\n",
      "5/5 [==============================] - 2s 378ms/step - loss: 0.5162 - accuracy: 0.7577 - val_loss: 0.4887 - val_accuracy: 0.7744\n",
      "Epoch 39/100\n",
      "5/5 [==============================] - 2s 386ms/step - loss: 0.5170 - accuracy: 0.7573 - val_loss: 0.4885 - val_accuracy: 0.7746\n",
      "Epoch 40/100\n",
      "5/5 [==============================] - 2s 360ms/step - loss: 0.5147 - accuracy: 0.7587 - val_loss: 0.4882 - val_accuracy: 0.7750\n",
      "Epoch 41/100\n",
      "5/5 [==============================] - 2s 342ms/step - loss: 0.5154 - accuracy: 0.7589 - val_loss: 0.4880 - val_accuracy: 0.7751\n",
      "Epoch 42/100\n",
      "5/5 [==============================] - 2s 352ms/step - loss: 0.5149 - accuracy: 0.7596 - val_loss: 0.4879 - val_accuracy: 0.7753\n",
      "Epoch 43/100\n",
      "5/5 [==============================] - 2s 362ms/step - loss: 0.5137 - accuracy: 0.7594 - val_loss: 0.4876 - val_accuracy: 0.7753\n",
      "Epoch 44/100\n",
      "5/5 [==============================] - 2s 373ms/step - loss: 0.5135 - accuracy: 0.7598 - val_loss: 0.4874 - val_accuracy: 0.7753\n",
      "Epoch 45/100\n",
      "5/5 [==============================] - 2s 412ms/step - loss: 0.5137 - accuracy: 0.7593 - val_loss: 0.4873 - val_accuracy: 0.7753\n",
      "Epoch 46/100\n",
      "5/5 [==============================] - 2s 375ms/step - loss: 0.5133 - accuracy: 0.7604 - val_loss: 0.4871 - val_accuracy: 0.7754\n",
      "Epoch 47/100\n",
      "5/5 [==============================] - 2s 439ms/step - loss: 0.5134 - accuracy: 0.7608 - val_loss: 0.4870 - val_accuracy: 0.7753\n",
      "Epoch 48/100\n",
      "5/5 [==============================] - 2s 439ms/step - loss: 0.5124 - accuracy: 0.7613 - val_loss: 0.4870 - val_accuracy: 0.7754\n",
      "Epoch 49/100\n",
      "5/5 [==============================] - 2s 375ms/step - loss: 0.5120 - accuracy: 0.7628 - val_loss: 0.4868 - val_accuracy: 0.7755\n",
      "Epoch 50/100\n",
      "5/5 [==============================] - 2s 377ms/step - loss: 0.5122 - accuracy: 0.7608 - val_loss: 0.4866 - val_accuracy: 0.7752\n",
      "Epoch 51/100\n",
      "5/5 [==============================] - 2s 415ms/step - loss: 0.5104 - accuracy: 0.7627 - val_loss: 0.4866 - val_accuracy: 0.7756\n",
      "Epoch 52/100\n",
      "5/5 [==============================] - 2s 404ms/step - loss: 0.5116 - accuracy: 0.7617 - val_loss: 0.4866 - val_accuracy: 0.7761\n",
      "Epoch 53/100\n",
      "5/5 [==============================] - 2s 368ms/step - loss: 0.5110 - accuracy: 0.7623 - val_loss: 0.4864 - val_accuracy: 0.7755\n",
      "Epoch 54/100\n",
      "5/5 [==============================] - 2s 379ms/step - loss: 0.5110 - accuracy: 0.7628 - val_loss: 0.4862 - val_accuracy: 0.7756\n",
      "Epoch 55/100\n",
      "5/5 [==============================] - 2s 404ms/step - loss: 0.5111 - accuracy: 0.7614 - val_loss: 0.4862 - val_accuracy: 0.7762\n",
      "Epoch 56/100\n",
      "5/5 [==============================] - 2s 396ms/step - loss: 0.5096 - accuracy: 0.7634 - val_loss: 0.4860 - val_accuracy: 0.7761\n",
      "Epoch 57/100\n",
      "5/5 [==============================] - 2s 374ms/step - loss: 0.5093 - accuracy: 0.7633 - val_loss: 0.4858 - val_accuracy: 0.7762\n",
      "Epoch 58/100\n",
      "5/5 [==============================] - 2s 380ms/step - loss: 0.5092 - accuracy: 0.7628 - val_loss: 0.4858 - val_accuracy: 0.7762\n",
      "Epoch 59/100\n",
      "5/5 [==============================] - 2s 346ms/step - loss: 0.5095 - accuracy: 0.7638 - val_loss: 0.4857 - val_accuracy: 0.7761\n",
      "Epoch 60/100\n",
      "5/5 [==============================] - 2s 417ms/step - loss: 0.5091 - accuracy: 0.7637 - val_loss: 0.4857 - val_accuracy: 0.7761\n",
      "Epoch 61/100\n",
      "5/5 [==============================] - 2s 369ms/step - loss: 0.5081 - accuracy: 0.7651 - val_loss: 0.4856 - val_accuracy: 0.7761\n",
      "Epoch 62/100\n",
      "5/5 [==============================] - 2s 440ms/step - loss: 0.5090 - accuracy: 0.7638 - val_loss: 0.4854 - val_accuracy: 0.7763\n",
      "Epoch 63/100\n",
      "5/5 [==============================] - 2s 369ms/step - loss: 0.5079 - accuracy: 0.7645 - val_loss: 0.4854 - val_accuracy: 0.7764\n",
      "Epoch 64/100\n",
      "5/5 [==============================] - 2s 390ms/step - loss: 0.5083 - accuracy: 0.7656 - val_loss: 0.4853 - val_accuracy: 0.7763\n",
      "Epoch 65/100\n",
      "5/5 [==============================] - 2s 372ms/step - loss: 0.5092 - accuracy: 0.7637 - val_loss: 0.4853 - val_accuracy: 0.7765\n",
      "Epoch 66/100\n",
      "5/5 [==============================] - 2s 356ms/step - loss: 0.5076 - accuracy: 0.7642 - val_loss: 0.4852 - val_accuracy: 0.7766\n",
      "Epoch 67/100\n",
      "5/5 [==============================] - 2s 347ms/step - loss: 0.5061 - accuracy: 0.7658 - val_loss: 0.4850 - val_accuracy: 0.7763\n",
      "Epoch 68/100\n",
      "5/5 [==============================] - 2s 366ms/step - loss: 0.5070 - accuracy: 0.7646 - val_loss: 0.4850 - val_accuracy: 0.7764\n",
      "Epoch 69/100\n",
      "5/5 [==============================] - 2s 415ms/step - loss: 0.5069 - accuracy: 0.7656 - val_loss: 0.4849 - val_accuracy: 0.7764\n",
      "Epoch 70/100\n",
      "5/5 [==============================] - 3s 449ms/step - loss: 0.5054 - accuracy: 0.7667 - val_loss: 0.4849 - val_accuracy: 0.7762\n",
      "Epoch 71/100\n",
      "5/5 [==============================] - 2s 396ms/step - loss: 0.5060 - accuracy: 0.7657 - val_loss: 0.4848 - val_accuracy: 0.7762\n",
      "Epoch 72/100\n",
      "5/5 [==============================] - 2s 383ms/step - loss: 0.5062 - accuracy: 0.7658 - val_loss: 0.4847 - val_accuracy: 0.7764\n",
      "Epoch 73/100\n",
      "5/5 [==============================] - 2s 397ms/step - loss: 0.5047 - accuracy: 0.7665 - val_loss: 0.4846 - val_accuracy: 0.7762\n",
      "Epoch 74/100\n",
      "5/5 [==============================] - 2s 428ms/step - loss: 0.5053 - accuracy: 0.7661 - val_loss: 0.4845 - val_accuracy: 0.7761\n",
      "Epoch 75/100\n",
      "5/5 [==============================] - 2s 386ms/step - loss: 0.5039 - accuracy: 0.7673 - val_loss: 0.4845 - val_accuracy: 0.7761\n",
      "Epoch 76/100\n",
      "5/5 [==============================] - 2s 381ms/step - loss: 0.5054 - accuracy: 0.7661 - val_loss: 0.4846 - val_accuracy: 0.7765\n",
      "Epoch 77/100\n",
      "5/5 [==============================] - 2s 360ms/step - loss: 0.5045 - accuracy: 0.7665 - val_loss: 0.4844 - val_accuracy: 0.7764\n",
      "Epoch 78/100\n",
      "5/5 [==============================] - 2s 384ms/step - loss: 0.5032 - accuracy: 0.7675 - val_loss: 0.4842 - val_accuracy: 0.7765\n",
      "Epoch 79/100\n",
      "5/5 [==============================] - 2s 378ms/step - loss: 0.5042 - accuracy: 0.7668 - val_loss: 0.4841 - val_accuracy: 0.7765\n",
      "Epoch 80/100\n",
      "5/5 [==============================] - 2s 402ms/step - loss: 0.5040 - accuracy: 0.7660 - val_loss: 0.4840 - val_accuracy: 0.7766\n",
      "Epoch 81/100\n",
      "5/5 [==============================] - 2s 380ms/step - loss: 0.5032 - accuracy: 0.7661 - val_loss: 0.4840 - val_accuracy: 0.7767\n",
      "Epoch 82/100\n",
      "5/5 [==============================] - 2s 371ms/step - loss: 0.5033 - accuracy: 0.7673 - val_loss: 0.4839 - val_accuracy: 0.7768\n",
      "Epoch 83/100\n",
      "5/5 [==============================] - 2s 353ms/step - loss: 0.5031 - accuracy: 0.7670 - val_loss: 0.4839 - val_accuracy: 0.7768\n",
      "Epoch 84/100\n",
      "5/5 [==============================] - 2s 393ms/step - loss: 0.5023 - accuracy: 0.7680 - val_loss: 0.4838 - val_accuracy: 0.7765\n",
      "Epoch 85/100\n",
      "5/5 [==============================] - 2s 369ms/step - loss: 0.5030 - accuracy: 0.7667 - val_loss: 0.4838 - val_accuracy: 0.7765\n",
      "Epoch 86/100\n",
      "5/5 [==============================] - 2s 364ms/step - loss: 0.5020 - accuracy: 0.7674 - val_loss: 0.4837 - val_accuracy: 0.7765\n",
      "Epoch 87/100\n",
      "5/5 [==============================] - 2s 377ms/step - loss: 0.5013 - accuracy: 0.7676 - val_loss: 0.4836 - val_accuracy: 0.7766\n",
      "Epoch 88/100\n",
      "5/5 [==============================] - 2s 369ms/step - loss: 0.5009 - accuracy: 0.7680 - val_loss: 0.4835 - val_accuracy: 0.7765\n",
      "Epoch 89/100\n",
      "5/5 [==============================] - 2s 453ms/step - loss: 0.5017 - accuracy: 0.7674 - val_loss: 0.4835 - val_accuracy: 0.7768\n",
      "Epoch 90/100\n",
      "5/5 [==============================] - 2s 361ms/step - loss: 0.5007 - accuracy: 0.7673 - val_loss: 0.4835 - val_accuracy: 0.7768\n",
      "Epoch 91/100\n",
      "5/5 [==============================] - 2s 351ms/step - loss: 0.5005 - accuracy: 0.7681 - val_loss: 0.4833 - val_accuracy: 0.7768\n",
      "Epoch 92/100\n",
      "5/5 [==============================] - 2s 357ms/step - loss: 0.5002 - accuracy: 0.7681 - val_loss: 0.4833 - val_accuracy: 0.7768\n",
      "Epoch 93/100\n",
      "5/5 [==============================] - 2s 374ms/step - loss: 0.4998 - accuracy: 0.7689 - val_loss: 0.4833 - val_accuracy: 0.7766\n",
      "Epoch 94/100\n",
      "5/5 [==============================] - 2s 369ms/step - loss: 0.5002 - accuracy: 0.7681 - val_loss: 0.4832 - val_accuracy: 0.7766\n",
      "Epoch 95/100\n",
      "5/5 [==============================] - 2s 371ms/step - loss: 0.5007 - accuracy: 0.7680 - val_loss: 0.4831 - val_accuracy: 0.7767\n",
      "Epoch 96/100\n",
      "5/5 [==============================] - 2s 362ms/step - loss: 0.5003 - accuracy: 0.7683 - val_loss: 0.4831 - val_accuracy: 0.7768\n",
      "Epoch 97/100\n",
      "5/5 [==============================] - 2s 379ms/step - loss: 0.5000 - accuracy: 0.7682 - val_loss: 0.4830 - val_accuracy: 0.7768\n",
      "Epoch 98/100\n",
      "5/5 [==============================] - 2s 395ms/step - loss: 0.4991 - accuracy: 0.7689 - val_loss: 0.4829 - val_accuracy: 0.7768\n",
      "Epoch 99/100\n",
      "5/5 [==============================] - 2s 368ms/step - loss: 0.4996 - accuracy: 0.7686 - val_loss: 0.4829 - val_accuracy: 0.7769\n",
      "Epoch 100/100\n",
      "5/5 [==============================] - 2s 360ms/step - loss: 0.4977 - accuracy: 0.7694 - val_loss: 0.4828 - val_accuracy: 0.7769\n"
     ]
    }
   ],
   "source": [
    "history1=model1.fit(train_LSTM_X, train_LSTM_y,epochs=100,batch_size=30000, validation_data=(val_LSTM_X, val_LSTM_y))"
   ]
  },
  {
   "cell_type": "code",
   "execution_count": 31,
   "metadata": {
    "colab": {
     "base_uri": "https://localhost:8080/"
    },
    "id": "FL8VzJkJTN_d",
    "outputId": "7be31587-cf07-4c86-dbf6-8e736e428760"
   },
   "outputs": [
    {
     "name": "stdout",
     "output_type": "stream",
     "text": [
      "INFO:tensorflow:Assets written to: Save_Model_Attention\\assets\n"
     ]
    },
    {
     "name": "stderr",
     "output_type": "stream",
     "text": [
      "INFO:tensorflow:Assets written to: Save_Model_Attention\\assets\n"
     ]
    },
    {
     "name": "stdout",
     "output_type": "stream",
     "text": [
      "Saved model to disk\n"
     ]
    }
   ],
   "source": [
    "# save Attention model and architecture to single file\n",
    "# model1.save('Save_Model_Attention.h5')\n",
    "model1.save('Save_Model_Attention')\n",
    "print(\"Saved model to disk\")"
   ]
  },
  {
   "cell_type": "code",
   "execution_count": 32,
   "metadata": {
    "id": "cjmUbnlYUGnb"
   },
   "outputs": [
    {
     "name": "stdout",
     "output_type": "stream",
     "text": [
      "Model: \"model_1\"\n",
      "_________________________________________________________________\n",
      " Layer (type)                Output Shape              Param #   \n",
      "=================================================================\n",
      " input_2 (InputLayer)        [(None, 1, 26)]           0         \n",
      "                                                                 \n",
      " lstm_2 (LSTM)               (None, 1, 50)             15400     \n",
      "                                                                 \n",
      " lstm_3 (LSTM)               (None, 1, 50)             20200     \n",
      "                                                                 \n",
      " attention (attention)       (None, 50)                51        \n",
      "                                                                 \n",
      " dense_1 (Dense)             (None, 1)                 51        \n",
      "                                                                 \n",
      "=================================================================\n",
      "Total params: 35702 (139.46 KB)\n",
      "Trainable params: 35702 (139.46 KB)\n",
      "Non-trainable params: 0 (0.00 Byte)\n",
      "_________________________________________________________________\n"
     ]
    }
   ],
   "source": [
    "# load and evaluate a saved model\n",
    "from numpy import loadtxt\n",
    "from keras.models import load_model\n",
    " \n",
    "# load model\n",
    "# model1 = load_model('Save_Model_Attention.h5')\n",
    "model1 = load_model('Save_Model_Attention')\n",
    "# summarize model.\n",
    "model1.summary()"
   ]
  },
  {
   "cell_type": "code",
   "execution_count": 33,
   "metadata": {
    "colab": {
     "base_uri": "https://localhost:8080/"
    },
    "id": "pynzSyCyUgYk",
    "outputId": "ee3ed285-9f23-412f-d418-81dec20e40aa"
   },
   "outputs": [
    {
     "name": "stdout",
     "output_type": "stream",
     "text": [
      "Train: 0.776, Test: 0.777\n"
     ]
    }
   ],
   "source": [
    "# evaluate the model\n",
    "_, train_acc = model1.evaluate(train_LSTM_X, train_LSTM_y, verbose=0)\n",
    "_, test_acc = model1.evaluate(val_LSTM_X, val_LSTM_y, verbose=0)\n",
    "print('Train: %.3f, Test: %.3f' % (train_acc, test_acc))"
   ]
  },
  {
   "cell_type": "code",
   "execution_count": 34,
   "metadata": {
    "id": "FowJ3_QvDsD6"
   },
   "outputs": [],
   "source": [
    "# predict probabilities for test set\n",
    "yhat_probs1 = model1.predict(val_LSTM_X, verbose=0)\n",
    "# reduce to 1d array\n",
    "yhat_probs1 = yhat_probs1[:, 0]\n",
    "yhat_probs1 = np.around(yhat_probs1,0).astype(int)"
   ]
  },
  {
   "cell_type": "code",
   "execution_count": 41,
   "metadata": {
    "colab": {
     "base_uri": "https://localhost:8080/"
    },
    "id": "91TI5B2sESst",
    "outputId": "0fe68a3e-4217-42d1-9619-472263c2d804"
   },
   "outputs": [
    {
     "name": "stdout",
     "output_type": "stream",
     "text": [
      "Accuracy_Lstm-Attention: 0.776875\n",
      "Precision: 0.736718\n",
      "Recall: 0.862384\n",
      "f1_score: 0.796317\n"
     ]
    }
   ],
   "source": [
    "# demonstration of calculating metrics for a neural network model using sklearn\n",
    "from sklearn.metrics import accuracy_score\n",
    "from sklearn.metrics import precision_score\n",
    "from sklearn.metrics import recall_score\n",
    "from sklearn.metrics import confusion_matrix\n",
    "\n",
    "# accuracy: (tp + tn) / (p + n)\n",
    "accuracy = accuracy_score(val_LSTM_y, yhat_probs1)\n",
    "print('Accuracy_Lstm-Attention: %f' % accuracy)\n",
    "# precision tp / (tp + fp)\n",
    "precision = precision_score(val_LSTM_y, yhat_probs1)\n",
    "print('Precision: %f' % precision)\n",
    "# recall: tp / (tp + fn)\n",
    "recall = recall_score(val_LSTM_y, yhat_probs1)\n",
    "print('Recall: %f' % recall)\n",
    "f1 = f1_score(val_LSTM_y, yhat_probs)  \n",
    "print('f1_score: %f' % f1)"
   ]
  },
  {
   "cell_type": "code",
   "execution_count": 36,
   "metadata": {
    "id": "GaFfUn6xEpMn"
   },
   "outputs": [],
   "source": [
    "cm1 = confusion_matrix(y_true=val_LSTM_y, y_pred=yhat_probs1)"
   ]
  },
  {
   "cell_type": "code",
   "execution_count": 37,
   "metadata": {
    "colab": {
     "base_uri": "https://localhost:8080/",
     "height": 362
    },
    "id": "ZFXwEl17ES7A",
    "outputId": "92daea33-c2f5-4354-ee72-eb9e4759e176"
   },
   "outputs": [
    {
     "name": "stdout",
     "output_type": "stream",
     "text": [
      "Confusion matrix, without normalization\n",
      "[[19800  8846]\n",
      " [ 3950 24753]]\n"
     ]
    },
    {
     "data": {
      "image/png": "[encoded data removed]",
      "text/plain": [
       "<Figure size 640x480 with 2 Axes>"
      ]
     },
     "metadata": {},
     "output_type": "display_data"
    }
   ],
   "source": [
    "plot_confusion_matrix(cm=cm1, classes=labels, title='LSTM-attention', normalize=False)"
   ]
  },
  {
   "cell_type": "code",
   "execution_count": null,
   "metadata": {},
   "outputs": [],
   "source": []
  }
 ],
 "metadata": {
  "colab": {
   "collapsed_sections": [],
   "name": "LSTM_Models.ipynb",
   "provenance": []
  },
  "kernelspec": {
   "display_name": "Python 3 (ipykernel)",
   "language": "python",
   "name": "python3"
  },
  "language_info": {
   "codemirror_mode": {
    "name": "ipython",
    "version": 3
   },
   "file_extension": ".py",
   "mimetype": "text/x-python",
   "name": "python",
   "nbconvert_exporter": "python",
   "pygments_lexer": "ipython3",
   "version": "3.11.4"
  }
 },
 "nbformat": 4,
 "nbformat_minor": 1
}
